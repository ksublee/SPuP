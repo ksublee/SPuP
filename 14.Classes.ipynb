{
 "cells": [
  {
   "cell_type": "markdown",
   "metadata": {},
   "source": [
    "# 14. Classes\n",
    "---"
   ]
  },
  {
   "cell_type": "markdown",
   "metadata": {},
   "source": [
    "Python에서 class의 기능을 간략히 알아본다.\n",
    "\n",
    "* Python에서 string, dictionary, integer, function 등은 모두 object (객체)이다.  \n",
    "* ```in``` 등 과 같은 키워드와 변수명 등을 제외하고는 Python의 모든 것은 object라고 불리운다.  \n",
    "* Class는 이러한 object들을 만들어 낼 수 있는 틀, 혹은 템플릿을 일컫는다.  \n",
    "* Class라는 틀을 통해 object를 생성하면 이를 instance라고도 한다.\n",
    "* 다음의 간단한 코드에서는 ```str``` class의 instance인 ```b```를 생성하였다.\n",
    "  * ```type()```함수를 통해 클래스를 알아낼 수 있다."
   ]
  },
  {
   "cell_type": "code",
   "execution_count": 1,
   "metadata": {},
   "outputs": [
    {
     "data": {
      "text/plain": [
       "'data science'"
      ]
     },
     "execution_count": 1,
     "metadata": {},
     "output_type": "execute_result"
    }
   ],
   "source": [
    "b = \"data science\"\n",
    "b"
   ]
  },
  {
   "cell_type": "code",
   "execution_count": 2,
   "metadata": {},
   "outputs": [
    {
     "data": {
      "text/plain": [
       "str"
      ]
     },
     "execution_count": 2,
     "metadata": {},
     "output_type": "execute_result"
    }
   ],
   "source": [
    "type(b)"
   ]
  },
  {
   "cell_type": "code",
   "execution_count": 3,
   "metadata": {},
   "outputs": [
    {
     "data": {
      "text/plain": [
       "list"
      ]
     },
     "execution_count": 3,
     "metadata": {},
     "output_type": "execute_result"
    }
   ],
   "source": [
    "type([1,2,3,4])"
   ]
  },
  {
   "cell_type": "code",
   "execution_count": 4,
   "metadata": {},
   "outputs": [
    {
     "data": {
      "text/plain": [
       "float"
      ]
     },
     "execution_count": 4,
     "metadata": {},
     "output_type": "execute_result"
    }
   ],
   "source": [
    "type(10.2)"
   ]
  },
  {
   "cell_type": "markdown",
   "metadata": {},
   "source": [
    "* 혹은 ```isinstance()```를 이용한다."
   ]
  },
  {
   "cell_type": "code",
   "execution_count": 5,
   "metadata": {},
   "outputs": [
    {
     "data": {
      "text/plain": [
       "True"
      ]
     },
     "execution_count": 5,
     "metadata": {},
     "output_type": "execute_result"
    }
   ],
   "source": [
    "isinstance(b, str)"
   ]
  },
  {
   "cell_type": "code",
   "execution_count": 6,
   "metadata": {},
   "outputs": [
    {
     "data": {
      "text/plain": [
       "True"
      ]
     },
     "execution_count": 6,
     "metadata": {},
     "output_type": "execute_result"
    }
   ],
   "source": [
    "isinstance([1,2], list)"
   ]
  },
  {
   "cell_type": "code",
   "execution_count": 7,
   "metadata": {},
   "outputs": [
    {
     "data": {
      "text/plain": [
       "True"
      ]
     },
     "execution_count": 7,
     "metadata": {},
     "output_type": "execute_result"
    }
   ],
   "source": [
    "isinstance(10, int)"
   ]
  },
  {
   "cell_type": "markdown",
   "metadata": {},
   "source": [
    "instance가 생성되면, 미리 정의된 attribute와 method를 활용할 수 있다. \n",
    "\n",
    "사실 우리는 instance가 생성되면 instance의 attribute과 method를 .을 이용해 접근하는 연습을 여러 번 해보았다."
   ]
  },
  {
   "cell_type": "code",
   "execution_count": 8,
   "metadata": {},
   "outputs": [
    {
     "data": {
      "text/plain": [
       "numpy.ndarray"
      ]
     },
     "execution_count": 8,
     "metadata": {},
     "output_type": "execute_result"
    }
   ],
   "source": [
    "import numpy as np\n",
    "a = np.array([3,2,6,1])\n",
    "type(a)"
   ]
  },
  {
   "cell_type": "markdown",
   "metadata": {},
   "source": [
    "numpy.ndarray class의 a라는 instance의 ```shape```이라는 attribute에 접근"
   ]
  },
  {
   "cell_type": "code",
   "execution_count": 9,
   "metadata": {},
   "outputs": [
    {
     "data": {
      "text/plain": [
       "(4,)"
      ]
     },
     "execution_count": 9,
     "metadata": {},
     "output_type": "execute_result"
    }
   ],
   "source": [
    "a.shape"
   ]
  },
  {
   "cell_type": "markdown",
   "metadata": {},
   "source": [
    "numpy.ndarray class의 a라는 instance의 ```mean()```이라는 method에 접근"
   ]
  },
  {
   "cell_type": "code",
   "execution_count": 10,
   "metadata": {},
   "outputs": [
    {
     "data": {
      "text/plain": [
       "3.0"
      ]
     },
     "execution_count": 10,
     "metadata": {},
     "output_type": "execute_result"
    }
   ],
   "source": [
    "a.mean()"
   ]
  },
  {
   "cell_type": "markdown",
   "metadata": {},
   "source": [
    "## Class 정의하기\n",
    "* str, list, dictionary 등은 Python에서 제공하는 class이다.\n",
    "* 프로그래머가 자신의 class를 정의하여 사용할 수 있다. \n",
    "* Python 프로그래밍에 항상 새로운 class가 필요한 것은 아니다.\n",
    "* 하지만, 실제적 object나 개념적 object를 표현하고 싶을 때, class를 활용하면 효율적인 프로그래밍을 할 수 있다. \n",
    "* Class를 정의하여 사용하기로 했으면 다음을 살펴보는 것이 좋다.\n",
    "  * 적절한 이름은 있는가?\n",
    "  * 어떤 성질을 가지고 있는가?\n",
    "  * Instance간에 공통으로 공유하는 성질이 있는가?\n",
    "  * 아니면 각 instance 마다 고유의 성질을 지니는가?\n",
    "  * 어떤 action (행위)를 할 수 있는가?"
   ]
  },
  {
   "cell_type": "code",
   "execution_count": 11,
   "metadata": {},
   "outputs": [],
   "source": [
    "class Chair:\n",
    "    ''' A chair on chairlift'''\n",
    "    max_occupants = 4\n",
    "    \n",
    "    def __init__(self, id):\n",
    "        self.id = id\n",
    "        self.count = 0\n",
    "        \n",
    "    def load(self, number):\n",
    "        self.count += number\n",
    "        \n",
    "    def unload(self, number):\n",
    "        self.count -= number"
   ]
  },
  {
   "cell_type": "markdown",
   "metadata": {},
   "source": [
    "* ```class Chair```는 class를 정의하는 부분으로 ```Chair```는 class 이름이다.\n",
    "  * class 이름은 통상적으로 camal cased된 방식을 취한다.\n",
    "    * ```ColorPrinter```, ```SmartPhone```, ```EfficientConverter```\n",
    "* ```max_occupants = 4```의 부분은 class attribute (클래스 속성)을 정의하는 곳이다.\n",
    "  * ```Chair``` class로 생성된 모든 instance는 ```max_occupants = 4```의 값을 지닌다.\n",
    "* ```def```를 통해 여러 함수들이 정의된 것을 볼 수 있다.\n",
    "  * class 내에서 정의된 함수를 특별히 method라고 부른다.\n",
    "* ```__init__()```은 constructor (생성자)라고 불리우는 특별한 method로 instance의 생성 과정을 담당한다.\n",
    "  * ```self```는 생성되는 instance 자신을 지칭한다.\n",
    "    * 대부분의 method에서 첫번째 parameter는 ```self```가 된다.\n",
    "  * 각 instance는 ```id```와 ```count```라는 고유의 attribute를 지닌다.\n",
    "    * 각 instance의 ```id```와 ```count```에 접근하기 위해서는 ```instancename.id```, ```instancename.count```의 형식으로 사용한다.\n",
    "    * method 정의 내에서는 instance 이름을 아직 알 수 없기에, ```self```로 instance 이름을 받아 ```self.id```, ```self.count```의 형태로 사용한다.\n",
    "  * 최초 instance 생성 시에 ```id```는 인자로 주어질 것이고, ```count```는 0으로 설정된다.\n",
    "* ```load()```와 ```unload()```의 두 method는 instance의 attribute인 ```count```를 변화시키는 역할을 담당한다.\n",
    "  * method 사용 시에는 ```instancename.load()```, ```instancename.unload()```와 같이 사용한다."
   ]
  },
  {
   "cell_type": "code",
   "execution_count": 12,
   "metadata": {},
   "outputs": [
    {
     "data": {
      "text/plain": [
       "__main__.Chair"
      ]
     },
     "execution_count": 12,
     "metadata": {},
     "output_type": "execute_result"
    }
   ],
   "source": [
    "Chair"
   ]
  },
  {
   "cell_type": "code",
   "execution_count": 13,
   "metadata": {},
   "outputs": [
    {
     "data": {
      "text/plain": [
       "['__class__',\n",
       " '__delattr__',\n",
       " '__dict__',\n",
       " '__dir__',\n",
       " '__doc__',\n",
       " '__eq__',\n",
       " '__format__',\n",
       " '__ge__',\n",
       " '__getattribute__',\n",
       " '__gt__',\n",
       " '__hash__',\n",
       " '__init__',\n",
       " '__init_subclass__',\n",
       " '__le__',\n",
       " '__lt__',\n",
       " '__module__',\n",
       " '__ne__',\n",
       " '__new__',\n",
       " '__reduce__',\n",
       " '__reduce_ex__',\n",
       " '__repr__',\n",
       " '__setattr__',\n",
       " '__sizeof__',\n",
       " '__str__',\n",
       " '__subclasshook__',\n",
       " '__weakref__',\n",
       " 'load',\n",
       " 'max_occupants',\n",
       " 'unload']"
      ]
     },
     "execution_count": 13,
     "metadata": {},
     "output_type": "execute_result"
    }
   ],
   "source": [
    "dir(Chair)"
   ]
  },
  {
   "cell_type": "code",
   "execution_count": 14,
   "metadata": {},
   "outputs": [
    {
     "data": {
      "text/plain": [
       "4"
      ]
     },
     "execution_count": 14,
     "metadata": {},
     "output_type": "execute_result"
    }
   ],
   "source": [
    "Chair.max_occupants"
   ]
  },
  {
   "cell_type": "markdown",
   "metadata": {},
   "source": [
    "## Instance 생성하기\n",
    "\n",
    "* class 이름을 통해 새로운 instance를 생성할 수 있다. \n",
    "  * ```__init__(self, id)```이 생성자이지만, instance를 생성할 때 이 method를 직접 사용하지는 않는다.\n",
    "  * 대신 class 이름인 ```Chair```를 이용하며, ```__init__```의 첫번째 parameter인 ```self```은 입력할 필요가 없으며, ```id```에 대한 인자만 입력한다."
   ]
  },
  {
   "cell_type": "code",
   "execution_count": 15,
   "metadata": {},
   "outputs": [],
   "source": [
    "# id = 21\n",
    "chair = Chair(21)"
   ]
  },
  {
   "cell_type": "code",
   "execution_count": 16,
   "metadata": {},
   "outputs": [
    {
     "data": {
      "text/plain": [
       "21"
      ]
     },
     "execution_count": 16,
     "metadata": {},
     "output_type": "execute_result"
    }
   ],
   "source": [
    "chair.id"
   ]
  },
  {
   "cell_type": "code",
   "execution_count": 17,
   "metadata": {},
   "outputs": [
    {
     "data": {
      "text/plain": [
       "0"
      ]
     },
     "execution_count": 17,
     "metadata": {},
     "output_type": "execute_result"
    }
   ],
   "source": [
    "chair.count"
   ]
  },
  {
   "cell_type": "code",
   "execution_count": 18,
   "metadata": {},
   "outputs": [
    {
     "data": {
      "text/plain": [
       "4"
      ]
     },
     "execution_count": 18,
     "metadata": {},
     "output_type": "execute_result"
    }
   ],
   "source": [
    "chair.max_occupants"
   ]
  },
  {
   "cell_type": "markdown",
   "metadata": {},
   "source": [
    "## Method 호출하기"
   ]
  },
  {
   "cell_type": "code",
   "execution_count": 19,
   "metadata": {},
   "outputs": [],
   "source": [
    "# 3명이 탑승\n",
    "chair.load(3)"
   ]
  },
  {
   "cell_type": "code",
   "execution_count": 20,
   "metadata": {},
   "outputs": [
    {
     "data": {
      "text/plain": [
       "3"
      ]
     },
     "execution_count": 20,
     "metadata": {},
     "output_type": "execute_result"
    }
   ],
   "source": [
    "chair.count"
   ]
  },
  {
   "cell_type": "code",
   "execution_count": 21,
   "metadata": {},
   "outputs": [],
   "source": [
    "# 2명이 내림\n",
    "chair.unload(2)"
   ]
  },
  {
   "cell_type": "code",
   "execution_count": 22,
   "metadata": {},
   "outputs": [
    {
     "data": {
      "text/plain": [
       "1"
      ]
     },
     "execution_count": 22,
     "metadata": {},
     "output_type": "execute_result"
    }
   ],
   "source": [
    "chair.count"
   ]
  },
  {
   "cell_type": "code",
   "execution_count": 23,
   "metadata": {},
   "outputs": [
    {
     "data": {
      "text/plain": [
       "{'id': 21, 'count': 1}"
      ]
     },
     "execution_count": 23,
     "metadata": {},
     "output_type": "execute_result"
    }
   ],
   "source": [
    "chair.__dict__"
   ]
  },
  {
   "cell_type": "code",
   "execution_count": 24,
   "metadata": {},
   "outputs": [
    {
     "data": {
      "text/plain": [
       "4"
      ]
     },
     "execution_count": 24,
     "metadata": {},
     "output_type": "execute_result"
    }
   ],
   "source": [
    "# 다른 chair 생성\n",
    "chair2 = Chair(22)\n",
    "chair2.load(4)\n",
    "chair2.count"
   ]
  },
  {
   "cell_type": "markdown",
   "metadata": {},
   "source": [
    "chair class는 그다지 정교하게 제작되지 않아서, 아래와 같은 현상이 발생할 수 있다."
   ]
  },
  {
   "cell_type": "code",
   "execution_count": 25,
   "metadata": {},
   "outputs": [
    {
     "data": {
      "text/plain": [
       "5"
      ]
     },
     "execution_count": 25,
     "metadata": {},
     "output_type": "execute_result"
    }
   ],
   "source": [
    "# max_occupant가 4임에도 5명이 탑승할 수 있다.\n",
    "chair2.load(1)\n",
    "chair2.count"
   ]
  },
  {
   "cell_type": "markdown",
   "metadata": {},
   "source": [
    "## Class 다듬기\n",
    "\n",
    "* 아래의 ```CorrectChair``` class에서는 ```_check``` 함수를 추가하여, 내리거나 타는 인원에 대한 정당성을 체크한다.\n",
    "  * ```_```로 시작하는 attribute나 method는 class 내에서만 private하게 사용할 것을 권고한다.\n",
    "    * 즉, class 밖에서 instance를 통해 public하게 사용하지 말 것을 권고하나, 강제성은 없다."
   ]
  },
  {
   "cell_type": "code",
   "execution_count": 26,
   "metadata": {},
   "outputs": [],
   "source": [
    "class CorrectChair:\n",
    "    '''A chair on a chairlift'''\n",
    "    max_occupants = 4\n",
    "    \n",
    "    def __init__(self, id):\n",
    "        self.id = id\n",
    "        self.count = 0\n",
    "        \n",
    "    def load(self, number):\n",
    "        self.count = self._check(number)\n",
    "        \n",
    "    def unload(self, number):\n",
    "        self.count = self._check(-number)\n",
    "\n",
    "    def _check(self, number):\n",
    "        if self.count + number < 0 or self.count + number > self.max_occupants:\n",
    "            print(\"Error : Invalid count : \", number)\n",
    "            print(\"Error : Cancel load (unload)\")\n",
    "            return self.count\n",
    "        else:\n",
    "            return self.count + number"
   ]
  },
  {
   "cell_type": "code",
   "execution_count": 27,
   "metadata": {},
   "outputs": [],
   "source": [
    "correct_chair = CorrectChair(31)"
   ]
  },
  {
   "cell_type": "code",
   "execution_count": 28,
   "metadata": {},
   "outputs": [
    {
     "data": {
      "text/plain": [
       "4"
      ]
     },
     "execution_count": 28,
     "metadata": {},
     "output_type": "execute_result"
    }
   ],
   "source": [
    "correct_chair.load(4)\n",
    "correct_chair.count"
   ]
  },
  {
   "cell_type": "code",
   "execution_count": 29,
   "metadata": {},
   "outputs": [
    {
     "name": "stdout",
     "output_type": "stream",
     "text": [
      "Error : Invalid count :  2\n",
      "Error : Cancel load (unload)\n"
     ]
    }
   ],
   "source": [
    "correct_chair.load(2)"
   ]
  },
  {
   "cell_type": "code",
   "execution_count": 30,
   "metadata": {},
   "outputs": [
    {
     "data": {
      "text/plain": [
       "4"
      ]
     },
     "execution_count": 30,
     "metadata": {},
     "output_type": "execute_result"
    }
   ],
   "source": [
    "correct_chair.count"
   ]
  },
  {
   "cell_type": "code",
   "execution_count": 31,
   "metadata": {},
   "outputs": [
    {
     "data": {
      "text/plain": [
       "2"
      ]
     },
     "execution_count": 31,
     "metadata": {},
     "output_type": "execute_result"
    }
   ],
   "source": [
    "correct_chair.unload(2)\n",
    "correct_chair.count"
   ]
  },
  {
   "cell_type": "code",
   "execution_count": 32,
   "metadata": {},
   "outputs": [
    {
     "name": "stdout",
     "output_type": "stream",
     "text": [
      "Error : Invalid count :  -3\n",
      "Error : Cancel load (unload)\n"
     ]
    }
   ],
   "source": [
    "correct_chair.unload(3)"
   ]
  },
  {
   "cell_type": "code",
   "execution_count": 33,
   "metadata": {},
   "outputs": [
    {
     "data": {
      "text/plain": [
       "2"
      ]
     },
     "execution_count": 33,
     "metadata": {},
     "output_type": "execute_result"
    }
   ],
   "source": [
    "correct_chair.count"
   ]
  },
  {
   "cell_type": "markdown",
   "metadata": {},
   "source": [
    "## Subclass\n",
    "\n",
    "여섯 명까지 탈 수 있는 chair를 만든다고 하자.  \n",
    "이 때 새로운 class를 만들 필요없이, 기존의 ```CorrectChair```를 상속하여, ```max_occupants```만 override하여 사용한다.\n",
    " * 나머지 기능은 parent class인 ```CorrectChair```의 기능을 그대로 이용할 수 있다."
   ]
  },
  {
   "cell_type": "code",
   "execution_count": 34,
   "metadata": {},
   "outputs": [],
   "source": [
    "class Chair6(CorrectChair):\n",
    "    max_occupants = 6"
   ]
  },
  {
   "cell_type": "code",
   "execution_count": 35,
   "metadata": {},
   "outputs": [],
   "source": [
    "chair6 = Chair6(61)"
   ]
  },
  {
   "cell_type": "code",
   "execution_count": 36,
   "metadata": {},
   "outputs": [
    {
     "data": {
      "text/plain": [
       "6"
      ]
     },
     "execution_count": 36,
     "metadata": {},
     "output_type": "execute_result"
    }
   ],
   "source": [
    "chair6.load(6)\n",
    "chair6.count"
   ]
  },
  {
   "cell_type": "code",
   "execution_count": 37,
   "metadata": {},
   "outputs": [
    {
     "name": "stdout",
     "output_type": "stream",
     "text": [
      "Error : Invalid count :  1\n",
      "Error : Cancel load (unload)\n"
     ]
    }
   ],
   "source": [
    "chair6.load(1)"
   ]
  },
  {
   "cell_type": "markdown",
   "metadata": {},
   "source": [
    "한편, ```isinstance```를 통해 ```chair6```가 ```Chair6``` class이며 ```CorrectChair``` class 이기도 함을 알 수 있다."
   ]
  },
  {
   "cell_type": "code",
   "execution_count": 38,
   "metadata": {},
   "outputs": [
    {
     "data": {
      "text/plain": [
       "True"
      ]
     },
     "execution_count": 38,
     "metadata": {},
     "output_type": "execute_result"
    }
   ],
   "source": [
    "isinstance(chair6, Chair6)"
   ]
  },
  {
   "cell_type": "code",
   "execution_count": 39,
   "metadata": {},
   "outputs": [
    {
     "data": {
      "text/plain": [
       "True"
      ]
     },
     "execution_count": 39,
     "metadata": {},
     "output_type": "execute_result"
    }
   ],
   "source": [
    "isinstance(chair6, CorrectChair)"
   ]
  }
 ],
 "metadata": {
  "kernelspec": {
   "display_name": "Python 3 (ipykernel)",
   "language": "python",
   "name": "python3"
  },
  "language_info": {
   "codemirror_mode": {
    "name": "ipython",
    "version": 3
   },
   "file_extension": ".py",
   "mimetype": "text/x-python",
   "name": "python",
   "nbconvert_exporter": "python",
   "pygments_lexer": "ipython3",
   "version": "3.9.13"
  }
 },
 "nbformat": 4,
 "nbformat_minor": 4
}
