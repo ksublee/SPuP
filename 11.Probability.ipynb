{
 "cells": [
  {
   "cell_type": "markdown",
   "metadata": {},
   "source": [
    "# 11. Probability"
   ]
  },
  {
   "cell_type": "markdown",
   "metadata": {},
   "source": [
    "### 독립과 종속\n",
    "\n",
    "* 간략히 말해서, 사건 $E$와 $F$가 독립이라는 것은, 우리가 $E$의 사건이 발생했는지에 대한 정보를 알고 있을 때, 이것이 $F$에 대한 정보를 주지 못하면 사건 $E$와 $F$는 독립이라 한다.\n",
    "\n",
    "* $P(E,F) = P(E)P(F)$"
   ]
  },
  {
   "cell_type": "markdown",
   "metadata": {},
   "source": [
    "### 조건부 확률\n",
    "\n",
    "* 만약 사건 $E$와 $F$가 독립이 아닐 수 있으면, 다음과 같이 조건부 확률을 정의\n",
    "\n",
    "$$\n",
    "P(E|F) = \\frac{P(E,F)}{P(F)}\n",
    "$$\n",
    "\n",
    "* 사건 $F$가 발생하였을 때, $E$가 발생할 확률\n",
    "\n",
    "### Example\n",
    "\n",
    "* 두 자녀가 있는 가족을 생각해 보자.\n",
    "* 각 자녀는 같은 확률로 남자 혹은 여자일 수 있다.\n",
    "* 둘째의 성별은 첫째의 성별과 독립적이다.\n",
    "* 첫째가 딸(G)일 때, 두 자녀가 모두 딸(B)일 확률?\n",
    "\n",
    "$$\n",
    "P(B|G) = \\frac{P(B,G)}{P(G)} = \\frac{P(B)}{P(G)} = \\frac{1}{2}\n",
    "$$\n",
    "\n",
    "* 적어도 하나의 아이가 딸일 때(L), 두 아이가 모두 딸(B)일 확률?\n",
    "\n",
    "$$P(B|L) = \\frac{P(B,L)}{P(L)} = \\frac{P(B)}{P(L)} = \\frac{1}{3}$$\n",
    "  \n",
    "### 랜덤 가족을 만들어 결과 확인"
   ]
  },
  {
   "cell_type": "code",
   "execution_count": 2,
   "metadata": {},
   "outputs": [
    {
     "name": "stdout",
     "output_type": "stream",
     "text": [
      "P(both | older): 0.5007089325501317\n",
      "P(both | either):  0.3311897106109325\n"
     ]
    }
   ],
   "source": [
    "import random\n",
    "\n",
    "def random_kid(): return random.choice([\"boy\", \"girl\"])\n",
    "\n",
    "both_girls, older_girl, either_girl = 0, 0, 0\n",
    "random.seed(0)\n",
    "\n",
    "for _ in range(10000):\n",
    "    younger = random_kid()\n",
    "    older = random_kid()\n",
    "    \n",
    "    if older == \"girl\": older_girl += 1\n",
    "    if older == \"girl\" and younger == \"girl\": both_girls += 1\n",
    "    if older == \"girl\" or younger == \"girl\": either_girl += 1\n",
    "\n",
    "print(\"P(both | older):\", both_girls / older_girl)      \n",
    "print(\"P(both | either): \", both_girls / either_girl)"
   ]
  },
  {
   "cell_type": "markdown",
   "metadata": {},
   "source": [
    "#### 응용 문제\n",
    "\n",
    "* 둘 중의 하나 이상이 오전에 태어난 딸일 때, 다른 아이도 딸일 확률을 랜덤 가족을 만들어 확인해 보라."
   ]
  },
  {
   "cell_type": "markdown",
   "metadata": {},
   "source": [
    "### Bayes's theorem\n",
    "\n",
    "* $P(F|E)$를 알 때 $P(E|F)$를 계산\u000b",
    "\n",
    "$$ P(E|F) = \\frac{P(E,F)}{P(F)} = \\frac{P(F|E)P(E)}{P(F)} $$\n",
    "\n",
    "* 사건 $F$는 $F,E$와 $F, E^c$로 나눌 수 있음\n",
    "$$P(E|F) = \\frac{P(F|E)P(E)}{P(F|E)P(E) + P(F|E^c)P(E^c)} $$\n",
    "          "
   ]
  },
  {
   "cell_type": "markdown",
   "metadata": {},
   "source": [
    "### 예제: Bayes's theorem\n",
    "\n",
    "* 1,000명당 1명꼴로 발생하는 질병\n",
    "* 99% 정확성을 지니는 질병 테스트\n",
    "  * 질병이 걸린 사람이 양성 반응이 나올 확률 : 0.99  \n",
    "  * 질병에 걸리지 않은 사람이 음성 반응이 나올 확률 : 0.99\n",
    "  \n",
    "* 질병에 대한 랜덤 테스트를 진행했을 때, 양성 반응의 의미\n",
    "  * $𝐷$ : 질병 감염, $𝑇$ : 양성 반응.\n",
    "$$P(D|T) =  \\frac{P(T|D)P(D)}{P(T|D)P(D) + P(T|D^c)P(D^c)}  $$\n",
    "  * $P(T|D)=0.99,  P(T|D^c)=0.01$\n",
    "  * $P(D)=0.001,  P(D^c)=0.999$\n",
    "* ⇒ $P(D|T)= 9.01\\%$\n",
    "* 9.01%의 양성 반응자만이 실제로 질병에 걸림을 알 수 있음\n",
    "  * 실제 테스트에서는 증상이 있는 환자가 검사를 받기 때문에, \n",
    "  * 양성반응+증상이 있음을 조건으로 병에 걸렸을 확률을 계산하면, 확률은 보다 상승할 수 있음"
   ]
  },
  {
   "cell_type": "code",
   "execution_count": 1,
   "metadata": {},
   "outputs": [],
   "source": [
    "def random_disease():\n",
    "    if random.choice(range(1000)) == 0 : return \"disease\"  # 병에 걸림\n",
    "    else: return \"healthy\"                                 # 병에 걸리지 않음\n",
    "\n",
    "def random_test():\n",
    "    if random.choice(range(100)) == 0 : return \"wrong\"  # 검사 부정확\n",
    "    else: return \"right\"                                 # 검사 정확\n",
    "\n",
    "\n",
    "# 위 예제를 응용하여 나머지 부분을 완성해 보자."
   ]
  },
  {
   "cell_type": "markdown",
   "metadata": {},
   "source": [
    "### 확률 변수\n",
    "\n",
    "* 확률 변수는 특정 확률 분포를 따르며 랜덤 값을 가지는 변수를 말함\n",
    "  * 동전의 앞이 나오면 1, 뒷면이 나오면 0\n",
    "  * 동전을 9번 던졌을 때 앞면의 수 \n",
    "  * ```range(10)```에서 고를 수 있는 임의의 숫자\n",
    "* 기댓값 : 발생 가능한 확률 변수 값에 확률을 곱한 뒤 합하여 얻는 값\n",
    " * 동전 던져서 나온 앞면의 수 : 0.5\n",
    " * 주사위의 값 : 3.5"
   ]
  },
  {
   "cell_type": "markdown",
   "metadata": {},
   "source": [
    "### 연속 분포 – 균등 분포\n",
    "\n",
    "* 예: 0과 1사이의 균등 분포 (uniform distribution)\n",
    "\n",
    "* 확률 밀도 함수(pdf)를 통해 확률 변수의 분포 정도를 표현\n",
    "\n",
    "* 0과 1사이의 균등 분포에 대한 pdf"
   ]
  },
  {
   "cell_type": "code",
   "execution_count": 3,
   "metadata": {},
   "outputs": [],
   "source": [
    "def uniform_pdf(x):\n",
    "    return 1 if x>=0 and x<1 else 0"
   ]
  },
  {
   "cell_type": "markdown",
   "metadata": {},
   "source": [
    "* random.random()을 이용하여 균등 분포를 지니는 확률 변수 생성\n",
    "\n",
    "* 0과 1사이 균등 분포의 확률 누적 함수(cdf):"
   ]
  },
  {
   "cell_type": "code",
   "execution_count": 4,
   "metadata": {},
   "outputs": [],
   "source": [
    "def uniform_cdf(x):\n",
    "    if x<0: return 0\n",
    "    elif x<1: return x\n",
    "    else: return 1"
   ]
  },
  {
   "cell_type": "markdown",
   "metadata": {},
   "source": [
    "### 연속 분포 – 정규 분포\n",
    "\n",
    "* 벨 모양의 정규분포는 평균 𝜇와 표준 편차 𝜎를 이용하여 표현\n",
    "* 정규 분포의 pdf:\n",
    "$$ f(x) = \\frac{1}{\\sqrt{2\\pi}\\sigma} \\exp \\left( -\\frac{ (x-\\mu)^2 }{2\\sigma^2} \\right) $$"
   ]
  },
  {
   "cell_type": "code",
   "execution_count": 6,
   "metadata": {},
   "outputs": [],
   "source": [
    "import math\n",
    "def normal_pdf(x, mu=0, sigma=1):\n",
    "    sqrt_two_pi = math.sqrt(2 * math.pi)\n",
    "    return (math.exp(-(x - mu) ** 2 / 2 /sigma ** 2)/(sqrt_two_pi * sigma))"
   ]
  },
  {
   "cell_type": "markdown",
   "metadata": {},
   "source": [
    "### 정규분포 pdf 그리기"
   ]
  },
  {
   "cell_type": "code",
   "execution_count": 7,
   "metadata": {},
   "outputs": [],
   "source": [
    "%matplotlib inline "
   ]
  },
  {
   "cell_type": "code",
   "execution_count": 8,
   "metadata": {},
   "outputs": [
    {
     "data": {
      "image/png": "[encoded data removed]",
      "text/plain": [
       "<matplotlib.figure.Figure at 0x2b945e8b550>"
      ]
     },
     "metadata": {},
     "output_type": "display_data"
    }
   ],
   "source": [
    "from matplotlib import pyplot as plt\n",
    "import math\n",
    "xs = [x / 10.0 for x in range(-50, 50)]\n",
    "plt.plot(xs,[normal_pdf(x,sigma=1) for x in xs], '-', label='mu=0,sigma=1')\n",
    "plt.plot(xs,[normal_pdf(x,sigma=2) for x in xs], '--', label='mu=0,sigma=2')\n",
    "plt.plot(xs,[normal_pdf(x,sigma=0.5) for x in xs], ':', label='mu=0,sigma=0.5')\n",
    "plt.plot(xs,[normal_pdf(x,mu=-1)   for x in xs], '-.', label='mu=-1,sigma=1')\n",
    "plt.legend()\n",
    "plt.show()"
   ]
  },
  {
   "cell_type": "markdown",
   "metadata": {},
   "source": [
    "### 정규분포의 cdf\n",
    "\n",
    "* 정규 분포의 cdf:\n",
    "$$ F(x) = \\frac{1}{2} \\left\\{ 1 + erf\\left( \\frac{x - \\mu}{\\sqrt{2} \\sigma} \\right) \\right\\}$$\n",
    "* erf는 에러 함수라고 불리며 ```math.erf```를 통해 계산"
   ]
  },
  {
   "cell_type": "code",
   "execution_count": 9,
   "metadata": {},
   "outputs": [],
   "source": [
    "def normal_cdf(x, mu=0, sigma=1):\n",
    "    return (1+math.erf((x-mu)/math.sqrt(2)/sigma))/2"
   ]
  },
  {
   "cell_type": "markdown",
   "metadata": {},
   "source": [
    "### 정규분포 cdf 그리기"
   ]
  },
  {
   "cell_type": "code",
   "execution_count": 10,
   "metadata": {},
   "outputs": [
    {
     "data": {
      "image/png": "[encoded data removed]",
      "text/plain": [
       "<matplotlib.figure.Figure at 0x2b945f945c0>"
      ]
     },
     "metadata": {},
     "output_type": "display_data"
    }
   ],
   "source": [
    "xs = [x / 10.0 for x in range(-50, 50)]\n",
    "plt.plot(xs,[normal_cdf(x,sigma=1) for x in xs], '-', label='mu=0,sigma=1')\n",
    "plt.plot(xs,[normal_cdf(x,sigma=2) for x in xs], '--', label='mu=0,sigma=2')\n",
    "plt.plot(xs,[normal_cdf(x,sigma=0.5) for x in xs], ':', label='mu=0,sigma=0.5')\n",
    "plt.plot(xs,[normal_cdf(x,mu=-1) for x in xs], '-.', label='mu=-1,sigma=1')\n",
    "plt.legend(loc=4) # bottom right\n",
    "plt.show()"
   ]
  },
  {
   "cell_type": "markdown",
   "metadata": {},
   "source": [
    "### 정규분포 cdf의 역함수\n",
    "\n",
    "* 주어진 $𝑝$에 대해, $𝑝=𝐹(𝑧)$를 만족하는 $𝑧$를 찾는다.\n",
    "* 이진 탐색을 이용한 방법\n",
    "  * 먼저 탐색 도메인을 ```(left, right)```으로 설정\n",
    "  * 이 도메인의 중앙값인 ```mid```에서 ```𝐹(mid)```를 계산\n",
    "   * 만약 ```𝐹(mid) < 𝑝``` 이면 새로운 탐색 도메인 ```(left, right) = (mid, right)```으로 재설정  \n",
    "   * 만약 ```𝐹(mid) > 𝑝``` 이면 새로운 탐색 도메인 ```(left, right) = (left, mid)```으로 재설정\n",
    "   * 만약 ```𝐹(mid) ≈ 𝑝``` 이면 탐색 종료\n",
    "\n",
    "### 정규분포 cdf의 역함수"
   ]
  },
  {
   "cell_type": "code",
   "execution_count": 28,
   "metadata": {},
   "outputs": [],
   "source": [
    "def inverse_normal_cdf(p, mu=0, sigma=1, tolerance=0.000001):\n",
    "    # 표준 정규 분포가 아닌 경우 X = mu + sigma * Z를 이용\n",
    "    if mu != 0 or sigma != 1:\n",
    "        return mu + sigma * inverse_normal_cdf(p, tolerance=tolerance)\n",
    "\n",
    "    left, right = -10.0, 10.0\n",
    "    while normal_cdf(right) - normal_cdf(left) > tolerance:\n",
    "        mid = (right + left) / 2          # 중앙값\n",
    "        if normal_cdf(mid) < p:           # 중앙값이 아직 작으면 윗쪽을 탐색\n",
    "            left = mid\n",
    "        elif normal_cdf(mid) > p:         # 중앙값이 아직 크면, 아랫쪽을 탐색\n",
    "            right = mid\n",
    "        else:\n",
    "            break\n",
    "    return (right + left) / 2"
   ]
  },
  {
   "cell_type": "code",
   "execution_count": 29,
   "metadata": {},
   "outputs": [
    {
     "data": {
      "text/plain": [
       "1.9599676132202148"
      ]
     },
     "execution_count": 29,
     "metadata": {},
     "output_type": "execute_result"
    }
   ],
   "source": [
    "inverse_normal_cdf(0.975)"
   ]
  },
  {
   "cell_type": "markdown",
   "metadata": {},
   "source": [
    "#### 예제 : 이진탐색을 이용해 제곱근을 찾는 함수를 작성해 보자."
   ]
  },
  {
   "cell_type": "markdown",
   "metadata": {},
   "source": [
    "### 중심 극한 정리\n",
    "\n",
    "* 같은 분포를 지니는 독립 확률 변수들의 합 혹은 평균은 정규 분포와 가까워 진다.\n",
    "* $X_1, \\cdots, X_n$ 을 평균 $\\mu$, 표준 편차 $\\sigma$를 가질 때, $n$이 충분히 크면\n",
    "$$\\frac{ X_1 + \\cdots + X_n - n\\mu}{\\sigma \\sqrt{n}}$$\n",
    "\n",
    "이 평균 0, 표준편차 1인 정규 분포에 근사함."
   ]
  },
  {
   "cell_type": "markdown",
   "metadata": {
    "collapsed": true
   },
   "source": [
    "#### 베르누이 분포와 이항 분포\n",
    "\n",
    "* 베르누이 분포 : p의 확률로 성공 시 1, 실패 시 0\n",
    "* 이항 분포 : n회 독립 베르누이 시행 시 총 성공 횟수"
   ]
  },
  {
   "cell_type": "code",
   "execution_count": 11,
   "metadata": {},
   "outputs": [],
   "source": [
    "def bernoulli_trial(p):\n",
    "    return 1 if random.random() < p else 0"
   ]
  },
  {
   "cell_type": "code",
   "execution_count": 12,
   "metadata": {},
   "outputs": [],
   "source": [
    "def binomial(n, p):\n",
    "    return sum(bernoulli_trial(p) for _ in range(n))"
   ]
  },
  {
   "cell_type": "markdown",
   "metadata": {},
   "source": [
    "이항 분포의 평균 : $np$,  표준편차 : $ \\sqrt{np(1-p)}$"
   ]
  },
  {
   "cell_type": "markdown",
   "metadata": {},
   "source": [
    "#### 이항분포와 중심 극한 정리"
   ]
  },
  {
   "cell_type": "code",
   "execution_count": 13,
   "metadata": {},
   "outputs": [],
   "source": [
    "from collections import Counter\n",
    "import random\n",
    "def make_hist(n, p, num_points):\n",
    "    data = [binomial(n, p) for _ in range(num_points)]\n",
    "    # 이항 분포 샘플을 히스토그램으로\n",
    "    histogram = Counter(data)                  #from collections import Counter\n",
    "    plt.bar([x for x in histogram.keys()],\n",
    "            [v / num_points for v in histogram.values()], 0.8, facecolor='none',  edgecolor='black')\n",
    "    \n",
    "    mu, sigma = p * n, math.sqrt(n * p * (1 - p))\n",
    "    # 정규 분포 그리기\n",
    "    xs = range(min(data), max(data) + 1)\n",
    "    ys = [normal_cdf(i + 0.5, mu, sigma) - normal_cdf(i - 0.5, mu, sigma)\n",
    "          for i in xs]\n",
    "    #ys = [normal_pdf(i) for i in xs]\n",
    "    plt.plot(xs,ys)\n",
    "    plt.show()"
   ]
  },
  {
   "cell_type": "code",
   "execution_count": 14,
   "metadata": {},
   "outputs": [
    {
     "data": {
      "image/png": "[encoded data removed]",
      "text/plain": [
       "<matplotlib.figure.Figure at 0x196a2fdd8d0>"
      ]
     },
     "metadata": {},
     "output_type": "display_data"
    }
   ],
   "source": [
    "make_hist(100, 0.75, 10000)"
   ]
  },
  {
   "cell_type": "markdown",
   "metadata": {},
   "source": [
    "### numpy의 기능을 이용한 확률, 통계 함수"
   ]
  },
  {
   "cell_type": "code",
   "execution_count": 1,
   "metadata": {},
   "outputs": [],
   "source": [
    "import numpy as np\n",
    "x = np.random.rand(10)                         # 10개의 uniform 확률 변수 array\n",
    "y = np.random.randint(0, 10, 20)               # 0이상 10미만의 20개의 random 정수 \n",
    "z = np.random.randn(10)                        # 10개의 표준정규 확률 변수 array\n",
    "b = np.random.binomial(n=10, p=0.4, size=10)   # n, p의 모수를 지니는 이항분포를 따르는 10개의 확률 변수\n",
    "t = np.random.standard_t(df=5, size=10)        # 자유도 nu의 t분포를 따르는 10개의 확률 변수\n",
    "c = np.random.choice([-1, 1])                  # -1과 1중의 하나를 랜덤으로 선택"
   ]
  },
  {
   "cell_type": "markdown",
   "metadata": {},
   "source": [
    "[numpy.random.rand](https://docs.scipy.org/doc/numpy/reference/generated/numpy.random.rand.html) \n",
    "[numpy.random.randint](https://docs.scipy.org/doc/numpy-1.12.0/reference/generated/numpy.random.randint.html)   \n",
    "[numpy.random.randn](https://docs.scipy.org/doc/numpy/reference/generated/numpy.random.randn.html)   \n",
    "[numpy.random.binomial](https://docs.scipy.org/doc/numpy/reference/generated/numpy.random.binomial.html)   \n",
    "[numpy.random.standard_t](https://docs.scipy.org/doc/numpy/reference/generated/numpy.random.standard_t.html)"
   ]
  },
  {
   "cell_type": "markdown",
   "metadata": {},
   "source": [
    "### 정규 모집단 소표본\n",
    "\n",
    "정규 모집단 소표본으로부터 T 통계량을 계산하면 student t 분포를 따른다."
   ]
  },
  {
   "cell_type": "code",
   "execution_count": 20,
   "metadata": {},
   "outputs": [
    {
     "data": {
      "image/png": "[encoded data removed]",
      "text/plain": [
       "<matplotlib.figure.Figure at 0x196a300d9e8>"
      ]
     },
     "metadata": {},
     "output_type": "display_data"
    }
   ],
   "source": [
    "import numpy as np\n",
    "import matplotlib.pyplot as plt\n",
    "\n",
    "N = 10000\n",
    "mean_x = np.zeros(N)\n",
    "std_x = np.zeros(N)\n",
    "ts = np.zeros(N)\n",
    "\n",
    "mu, sigma, n = 5, 3, 10      #모평균, 모표준편차, 표본 개수\n",
    "\n",
    "for i in range(N):\n",
    "    x = np.random.normal(mu, sigma, n)\n",
    "    mean_x[i], std_x[i] = x.mean(), x.std(ddof=1)          # 표본 평균, 표본 표준편차\n",
    "    ts[i] = (mean_x[i] - mu)/(std_x[i]/np.sqrt(n))   # t 통계량\n",
    "    \n",
    "plt.hist(ts, bins=20, normed=True)\n",
    "plt.show()"
   ]
  },
  {
   "cell_type": "markdown",
   "metadata": {},
   "source": [
    "위 예제에서 ```for``` 문을 list comprehension으로 바꾸어 작성하여 보자.\n",
    "  * 주어진 샘플로부터 t통계량을 생성하는 ```t()``` 함수를 먼저 작성 후, 이를 list comprehension에서 활용하자."
   ]
  },
  {
   "cell_type": "markdown",
   "metadata": {},
   "source": [
    "### random walks"
   ]
  },
  {
   "cell_type": "code",
   "execution_count": 21,
   "metadata": {},
   "outputs": [
    {
     "data": {
      "image/png": "[encoded data removed]",
      "text/plain": [
       "<matplotlib.figure.Figure at 0x196a3090828>"
      ]
     },
     "metadata": {},
     "output_type": "display_data"
    }
   ],
   "source": [
    "import numpy as np\n",
    "import matplotlib.pyplot as plt\n",
    "\n",
    "position = 0\n",
    "walk = [position]\n",
    "steps = 1000\n",
    "for _ in range(steps):\n",
    "    if np.random.randint(0,2): step=1  # 0은 False, 1은 True를 의미\n",
    "    else: step=-1\n",
    "    position += step\n",
    "    walk.append(position)\n",
    "    \n",
    "plt.plot(range(steps+1), walk) \n",
    "plt.show()"
   ]
  },
  {
   "cell_type": "markdown",
   "metadata": {},
   "source": [
    "위 예제에서 ```for``` 문을 list comprehension으로 바꾸어 작성하여 보자.  \n",
    " * ```np.random.choice()```를 활용하여 보자.  \n",
    " * ```np.cumsum()```를 이용하자."
   ]
  },
  {
   "cell_type": "code",
   "execution_count": 4,
   "metadata": {},
   "outputs": [
    {
     "name": "stdout",
     "output_type": "stream",
     "text": [
      "[ 0  1  3  6 10 15]\n"
     ]
    }
   ],
   "source": [
    "# np.cumsum 예제\n",
    "x = [0, 1, 2, 3, 4, 5]\n",
    "print(np.cumsum(x))"
   ]
  },
  {
   "cell_type": "markdown",
   "metadata": {},
   "source": [
    "### 브라운 운동 - Brownian motion"
   ]
  },
  {
   "cell_type": "code",
   "execution_count": 22,
   "metadata": {},
   "outputs": [
    {
     "data": {
      "image/png": "[encoded data removed]",
      "text/plain": [
       "<matplotlib.figure.Figure at 0x196a33ab748>"
      ]
     },
     "metadata": {},
     "output_type": "display_data"
    }
   ],
   "source": [
    "import numpy as np\n",
    "import matplotlib.pyplot as plt\n",
    "\n",
    "position = 0\n",
    "walk = [position]\n",
    "steps = 1000\n",
    "for _ in range(steps):\n",
    "    step = np.random.normal(loc=0, scale=1)\n",
    "    position += step\n",
    "    walk.append(position)\n",
    "    \n",
    "plt.plot(range(steps+1), walk) \n",
    "plt.show()"
   ]
  },
  {
   "cell_type": "markdown",
   "metadata": {},
   "source": [
    "위 예제에서 ```for``` 문을 list comprehension으로 바꾸어 작성하여 보자.    \n",
    " * ```np.cumsum()```를 이용하자."
   ]
  }
 ],
 "metadata": {
  "kernelspec": {
   "display_name": "Python 3",
   "language": "python",
   "name": "python3"
  },
  "language_info": {
   "codemirror_mode": {
    "name": "ipython",
    "version": 3
   },
   "file_extension": ".py",
   "mimetype": "text/x-python",
   "name": "python",
   "nbconvert_exporter": "python",
   "pygments_lexer": "ipython3",
   "version": "3.7.7"
  }
 },
 "nbformat": 4,
 "nbformat_minor": 1
}
