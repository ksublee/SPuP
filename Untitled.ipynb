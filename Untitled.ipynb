{
 "cells": [
  {
   "cell_type": "code",
   "execution_count": 12,
   "metadata": {},
   "outputs": [
    {
     "name": "stdout",
     "output_type": "stream",
     "text": [
      "[[ 67  22  42  20  54]\n",
      " [ 58  25   6  52  49]\n",
      " [ 44  26 100  11   7]\n",
      " [ 47  16  74  28  45]\n",
      " [ 68  50  43  51  19]]\n",
      "Bingo\n"
     ]
    }
   ],
   "source": [
    "import numpy as np\n",
    "\n",
    "B = np.random.choice(range(1,76), size=25, replace=False).reshape(5,5)\n",
    "B[2, 2] = 100\n",
    "print(B)\n",
    "for i in range(5):\n",
    "    if np.all(B[i] % 2 == 0) : print(\"Bingo\")\n",
    "    if np.all(B[:,i] % 2 == 0) : print(\"Bingo\")\n",
    "if np.all(B[[0,1,2,3,4], [0,1,2,3,4]] % 2 == 0) : print(\"Bingo\")\n",
    "if np.all(B[[0,1,2,3,4], [4,3,2,1,0]] % 2 == 0) : print(\"Bingo\")"
   ]
  },
  {
   "cell_type": "code",
   "execution_count": 5,
   "metadata": {},
   "outputs": [],
   "source": []
  },
  {
   "cell_type": "code",
   "execution_count": null,
   "metadata": {},
   "outputs": [],
   "source": []
  }
 ],
 "metadata": {
  "kernelspec": {
   "display_name": "Python 3",
   "language": "python",
   "name": "python3"
  },
  "language_info": {
   "codemirror_mode": {
    "name": "ipython",
    "version": 3
   },
   "file_extension": ".py",
   "mimetype": "text/x-python",
   "name": "python",
   "nbconvert_exporter": "python",
   "pygments_lexer": "ipython3",
   "version": "3.7.7"
  }
 },
 "nbformat": 4,
 "nbformat_minor": 4
}
