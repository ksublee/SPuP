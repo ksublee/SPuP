{
 "cells": [
  {
   "cell_type": "markdown",
   "metadata": {},
   "source": [
    "# 7. List and Dictionary\n",
    "\n",
    "--------------\n",
    "\n",
    "앞에서 공부한 데이터 형들은 scalar로서 하나의 값을 가졌다.\n",
    "\n",
    "이 장에서는 여러 object들을 포함하는 container들에 대해 공부한다."
   ]
  },
  {
   "cell_type": "markdown",
   "metadata": {},
   "source": [
    "## List와 tuple\n",
    "----------\n",
    "\n",
    "<p> <font color=#00008B> &#9635 리스트 (list) </font> - 파이썬에서 여러 원소들을 모아놓은 집합체로 순서가 있으며, 원소들을 변경 가능하다. </p>\n",
    "\n",
    "* ```[ ]```와 ```,```로 표현하는 데이터 형으로 여러 가지 형태의 정보를 하나의 리스트로 묶어서 나타냄  \n",
    "* ```list``` 는 매우 유연하며, 다양한 상황에서 간편하게 활용될 수 있다."
   ]
  },
  {
   "cell_type": "code",
   "execution_count": 1,
   "metadata": {},
   "outputs": [],
   "source": [
    "squares = [1, 4, 9, 16, 25]\n",
    "zoo_animal = ['tiger', 'lion', 'monkey']\n",
    "smith_information = ['Smith', 1990, 'London']\n",
    "lee_information = ['Lee', 1975, 'Seoul']\n",
    "customer = [smith_information, lee_information]"
   ]
  },
  {
   "cell_type": "markdown",
   "metadata": {},
   "source": [
    "`len()` 함수를 이용하여 길이를 구함"
   ]
  },
  {
   "cell_type": "code",
   "execution_count": 2,
   "metadata": {},
   "outputs": [
    {
     "data": {
      "text/plain": [
       "5"
      ]
     },
     "execution_count": 2,
     "metadata": {},
     "output_type": "execute_result"
    }
   ],
   "source": [
    "len(squares)"
   ]
  },
  {
   "cell_type": "code",
   "execution_count": 3,
   "metadata": {},
   "outputs": [
    {
     "data": {
      "text/plain": [
       "3"
      ]
     },
     "execution_count": 3,
     "metadata": {},
     "output_type": "execute_result"
    }
   ],
   "source": [
    "len(zoo_animal)"
   ]
  },
  {
   "cell_type": "code",
   "execution_count": 4,
   "metadata": {},
   "outputs": [
    {
     "data": {
      "text/plain": [
       "2"
      ]
     },
     "execution_count": 4,
     "metadata": {},
     "output_type": "execute_result"
    }
   ],
   "source": [
    "len(customer)"
   ]
  },
  {
   "cell_type": "markdown",
   "metadata": {},
   "source": [
    "### List의 인덱스 (index)"
   ]
  },
  {
   "cell_type": "code",
   "execution_count": 5,
   "metadata": {},
   "outputs": [],
   "source": [
    "squares = [1, 4, 9, 16, 25, 36, 49, 64, 81]"
   ]
  },
  {
   "cell_type": "markdown",
   "metadata": {},
   "source": [
    "* index를 이용한 list 내의 원소 접근\n",
    "  * 첫 아이템의 index는 0부터 시작"
   ]
  },
  {
   "cell_type": "code",
   "execution_count": 6,
   "metadata": {},
   "outputs": [
    {
     "data": {
      "text/plain": [
       "1"
      ]
     },
     "execution_count": 6,
     "metadata": {},
     "output_type": "execute_result"
    }
   ],
   "source": [
    "squares[0]"
   ]
  },
  {
   "cell_type": "code",
   "execution_count": 7,
   "metadata": {},
   "outputs": [
    {
     "data": {
      "text/plain": [
       "4"
      ]
     },
     "execution_count": 7,
     "metadata": {},
     "output_type": "execute_result"
    }
   ],
   "source": [
    "squares[1]"
   ]
  },
  {
   "cell_type": "code",
   "execution_count": 8,
   "metadata": {},
   "outputs": [
    {
     "data": {
      "text/plain": [
       "25"
      ]
     },
     "execution_count": 8,
     "metadata": {},
     "output_type": "execute_result"
    }
   ],
   "source": [
    "squares[4]"
   ]
  },
  {
   "cell_type": "code",
   "execution_count": 9,
   "metadata": {},
   "outputs": [
    {
     "data": {
      "text/plain": [
       "81"
      ]
     },
     "execution_count": 9,
     "metadata": {},
     "output_type": "execute_result"
    }
   ],
   "source": [
    "# 가장 마지막\n",
    "squares[-1]"
   ]
  },
  {
   "cell_type": "code",
   "execution_count": 10,
   "metadata": {},
   "outputs": [
    {
     "data": {
      "text/plain": [
       "64"
      ]
     },
     "execution_count": 10,
     "metadata": {},
     "output_type": "execute_result"
    }
   ],
   "source": [
    "# 마지막에서 두 번째\n",
    "squares[-2]"
   ]
  },
  {
   "cell_type": "markdown",
   "metadata": {},
   "source": [
    "리스트는 `for` 문에서 사용할 수 있다."
   ]
  },
  {
   "cell_type": "code",
   "execution_count": 11,
   "metadata": {},
   "outputs": [
    {
     "name": "stdout",
     "output_type": "stream",
     "text": [
      "1\n",
      "4\n",
      "9\n",
      "16\n",
      "25\n",
      "36\n",
      "49\n",
      "64\n",
      "81\n"
     ]
    }
   ],
   "source": [
    "for x in squares: print(x)"
   ]
  },
  {
   "cell_type": "markdown",
   "metadata": {},
   "source": [
    "### list의 slicing 연산\n",
    "\n",
    "<p> <font color=#00008B> &#9635 Slicing </font> - list를 잘라내어 sublist를 추출하는 과정 </p>\n"
   ]
  },
  {
   "cell_type": "code",
   "execution_count": 12,
   "metadata": {},
   "outputs": [],
   "source": [
    "squares = [1, 4, 9, 16, 25, 36, 49, 64, 81]"
   ]
  },
  {
   "cell_type": "markdown",
   "metadata": {},
   "source": [
    "  * 인덱스 0의 item부터 인덱스 3의 item 이전까지"
   ]
  },
  {
   "cell_type": "code",
   "execution_count": 13,
   "metadata": {},
   "outputs": [
    {
     "data": {
      "text/plain": [
       "[1, 4, 9]"
      ]
     },
     "execution_count": 13,
     "metadata": {},
     "output_type": "execute_result"
    }
   ],
   "source": [
    "squares[0:3] "
   ]
  },
  {
   "cell_type": "markdown",
   "metadata": {},
   "source": [
    "혹은"
   ]
  },
  {
   "cell_type": "code",
   "execution_count": 14,
   "metadata": {},
   "outputs": [
    {
     "data": {
      "text/plain": [
       "[1, 4, 9]"
      ]
     },
     "execution_count": 14,
     "metadata": {},
     "output_type": "execute_result"
    }
   ],
   "source": [
    "squares[:3]"
   ]
  },
  {
   "cell_type": "markdown",
   "metadata": {},
   "source": [
    "  * 인덱스 3의 item부터 인덱스 6의 item 이전까지"
   ]
  },
  {
   "cell_type": "code",
   "execution_count": 15,
   "metadata": {},
   "outputs": [
    {
     "data": {
      "text/plain": [
       "[16, 25, 36]"
      ]
     },
     "execution_count": 15,
     "metadata": {},
     "output_type": "execute_result"
    }
   ],
   "source": [
    "squares[3:6]"
   ]
  },
  {
   "cell_type": "markdown",
   "metadata": {},
   "source": [
    "  * 인덱스 6의 item부터 인덱스 9의 item 이전까지"
   ]
  },
  {
   "cell_type": "code",
   "execution_count": 16,
   "metadata": {},
   "outputs": [
    {
     "data": {
      "text/plain": [
       "[49, 64, 81]"
      ]
     },
     "execution_count": 16,
     "metadata": {},
     "output_type": "execute_result"
    }
   ],
   "source": [
    "squares[6:9]"
   ]
  },
  {
   "cell_type": "markdown",
   "metadata": {},
   "source": [
    "혹은"
   ]
  },
  {
   "cell_type": "code",
   "execution_count": 17,
   "metadata": {},
   "outputs": [
    {
     "data": {
      "text/plain": [
       "[49, 64, 81]"
      ]
     },
     "execution_count": 17,
     "metadata": {},
     "output_type": "execute_result"
    }
   ],
   "source": [
    "squares[6:]"
   ]
  },
  {
   "cell_type": "markdown",
   "metadata": {},
   "source": [
    "* 인덱스 0의 item부터 인덱스 6의 item 이전까지 2의 간격으로"
   ]
  },
  {
   "cell_type": "code",
   "execution_count": 18,
   "metadata": {},
   "outputs": [
    {
     "data": {
      "text/plain": [
       "[1, 9, 25]"
      ]
     },
     "execution_count": 18,
     "metadata": {},
     "output_type": "execute_result"
    }
   ],
   "source": [
    "# stride 라고도 한다.\n",
    "squares[0:6:2]"
   ]
  },
  {
   "cell_type": "markdown",
   "metadata": {},
   "source": [
    "* 음수를 이용한 slicing 또한 활용 가능하다."
   ]
  },
  {
   "cell_type": "code",
   "execution_count": 19,
   "metadata": {},
   "outputs": [
    {
     "data": {
      "text/plain": [
       "[1, 4, 9, 16, 25, 36, 49, 64]"
      ]
     },
     "execution_count": 19,
     "metadata": {},
     "output_type": "execute_result"
    }
   ],
   "source": [
    "squares[:-1]"
   ]
  },
  {
   "cell_type": "code",
   "execution_count": 20,
   "metadata": {},
   "outputs": [
    {
     "data": {
      "text/plain": [
       "[49, 64, 81]"
      ]
     },
     "execution_count": 20,
     "metadata": {},
     "output_type": "execute_result"
    }
   ],
   "source": [
    "squares[-3:]"
   ]
  },
  {
   "cell_type": "code",
   "execution_count": 21,
   "metadata": {},
   "outputs": [
    {
     "data": {
      "text/plain": [
       "[9, 16, 25, 36, 49, 64]"
      ]
     },
     "execution_count": 21,
     "metadata": {},
     "output_type": "execute_result"
    }
   ],
   "source": [
    "squares[2:-1]"
   ]
  },
  {
   "cell_type": "code",
   "execution_count": 22,
   "metadata": {},
   "outputs": [
    {
     "data": {
      "text/plain": [
       "[36, 49]"
      ]
     },
     "execution_count": 22,
     "metadata": {},
     "output_type": "execute_result"
    }
   ],
   "source": [
    "squares[-4:-2]"
   ]
  },
  {
   "cell_type": "code",
   "execution_count": 23,
   "metadata": {},
   "outputs": [
    {
     "data": {
      "text/plain": [
       "[81, 64, 49, 36, 25, 16, 9, 4, 1]"
      ]
     },
     "execution_count": 23,
     "metadata": {},
     "output_type": "execute_result"
    }
   ],
   "source": [
    "squares[::-1]"
   ]
  },
  {
   "cell_type": "markdown",
   "metadata": {},
   "source": [
    "slicing을 하여도 원래의 list는 보존된다."
   ]
  },
  {
   "cell_type": "code",
   "execution_count": 24,
   "metadata": {},
   "outputs": [
    {
     "data": {
      "text/plain": [
       "[1, 4, 9, 16, 25, 36, 49, 64, 81]"
      ]
     },
     "execution_count": 24,
     "metadata": {},
     "output_type": "execute_result"
    }
   ],
   "source": [
    "squares"
   ]
  },
  {
   "cell_type": "markdown",
   "metadata": {},
   "source": [
    "### list 내용 변경"
   ]
  },
  {
   "cell_type": "code",
   "execution_count": 25,
   "metadata": {},
   "outputs": [],
   "source": [
    "squares = [1, 4, 10, 17, 25]"
   ]
  },
  {
   "cell_type": "code",
   "execution_count": 26,
   "metadata": {},
   "outputs": [
    {
     "name": "stdout",
     "output_type": "stream",
     "text": [
      "[1, 4, 9, 17, 25]\n"
     ]
    }
   ],
   "source": [
    "squares[2] = 9\n",
    "print(squares)"
   ]
  },
  {
   "cell_type": "code",
   "execution_count": 27,
   "metadata": {},
   "outputs": [
    {
     "name": "stdout",
     "output_type": "stream",
     "text": [
      "[1, 4, 9, 16, 25]\n"
     ]
    }
   ],
   "source": [
    "squares[3] = 16\n",
    "print(squares)"
   ]
  },
  {
   "cell_type": "code",
   "execution_count": 28,
   "metadata": {},
   "outputs": [
    {
     "name": "stdout",
     "output_type": "stream",
     "text": [
      "[1, 4, 10, 17, 25]\n"
     ]
    }
   ],
   "source": [
    "squares = [1, 4, 10, 17, 25]\n",
    "print(squares)"
   ]
  },
  {
   "cell_type": "code",
   "execution_count": 29,
   "metadata": {},
   "outputs": [
    {
     "name": "stdout",
     "output_type": "stream",
     "text": [
      "[1, 4, 9, 16, 25]\n"
     ]
    }
   ],
   "source": [
    "squares[2:4] = [9, 16]\n",
    "print(squares)"
   ]
  },
  {
   "cell_type": "code",
   "execution_count": 30,
   "metadata": {},
   "outputs": [
    {
     "name": "stdout",
     "output_type": "stream",
     "text": [
      "[1, 4, 9, 16, 25, 36, 49, 64]\n"
     ]
    }
   ],
   "source": [
    "squares = squares + [36, 49, 64]\n",
    "print(squares)"
   ]
  },
  {
   "cell_type": "code",
   "execution_count": 31,
   "metadata": {},
   "outputs": [
    {
     "name": "stdout",
     "output_type": "stream",
     "text": [
      "[1, 4, 9, 16, 25, 36, 49, 64, 81]\n"
     ]
    }
   ],
   "source": [
    "squares.append(81)\n",
    "print(squares)"
   ]
  },
  {
   "cell_type": "code",
   "execution_count": 32,
   "metadata": {},
   "outputs": [
    {
     "name": "stdout",
     "output_type": "stream",
     "text": [
      "[1, 4, 9, 16, 25, 36, 49, 64, 81, 100]\n"
     ]
    }
   ],
   "source": [
    "squares.append(10**2)\n",
    "print(squares)"
   ]
  },
  {
   "cell_type": "code",
   "execution_count": 33,
   "metadata": {},
   "outputs": [
    {
     "name": "stdout",
     "output_type": "stream",
     "text": [
      "[1, 4, 9, 16, 25, 36, 49, 64, 81, 100, 121, 144, 169]\n"
     ]
    }
   ],
   "source": [
    "squares.extend([11**2, 12**2, 13**2])\n",
    "print(squares)"
   ]
  },
  {
   "cell_type": "code",
   "execution_count": 34,
   "metadata": {},
   "outputs": [
    {
     "name": "stdout",
     "output_type": "stream",
     "text": [
      "[1, 4, 9, 16, 25, 121, 144, 169]\n"
     ]
    }
   ],
   "source": [
    "# slicing을 이용하여 값들을 할당하는 과정 중에 리스트의 길이가 변경될 수 있다.\n",
    "squares[5:10] = []\n",
    "print(squares)"
   ]
  },
  {
   "cell_type": "code",
   "execution_count": 35,
   "metadata": {},
   "outputs": [
    {
     "name": "stdout",
     "output_type": "stream",
     "text": [
      "[1, [], 9, 16, 25, 121, 144, 169]\n"
     ]
    }
   ],
   "source": [
    "squares[1] = []\n",
    "print(squares)"
   ]
  },
  {
   "cell_type": "code",
   "execution_count": 36,
   "metadata": {},
   "outputs": [
    {
     "name": "stdout",
     "output_type": "stream",
     "text": [
      "[1, 9, 16, 25, 121, 144, 169]\n"
     ]
    }
   ],
   "source": [
    "squares[1:2] = []\n",
    "print(squares)"
   ]
  },
  {
   "cell_type": "code",
   "execution_count": 37,
   "metadata": {},
   "outputs": [
    {
     "name": "stdout",
     "output_type": "stream",
     "text": [
      "[1, 4, 9, 16, 25, 121, 144, 169]\n"
     ]
    }
   ],
   "source": [
    "squares.insert(1, 4)\n",
    "print(squares)"
   ]
  },
  {
   "cell_type": "markdown",
   "metadata": {},
   "source": [
    "### list 내의 list"
   ]
  },
  {
   "cell_type": "code",
   "execution_count": 38,
   "metadata": {},
   "outputs": [],
   "source": [
    "A = [[0,1,2,3,4], ['a', 'b']]"
   ]
  },
  {
   "cell_type": "code",
   "execution_count": 39,
   "metadata": {},
   "outputs": [
    {
     "data": {
      "text/plain": [
       "[0, 1, 2, 3, 4]"
      ]
     },
     "execution_count": 39,
     "metadata": {},
     "output_type": "execute_result"
    }
   ],
   "source": [
    "A[0]"
   ]
  },
  {
   "cell_type": "code",
   "execution_count": 40,
   "metadata": {},
   "outputs": [
    {
     "data": {
      "text/plain": [
       "['a', 'b']"
      ]
     },
     "execution_count": 40,
     "metadata": {},
     "output_type": "execute_result"
    }
   ],
   "source": [
    "A[1]"
   ]
  },
  {
   "cell_type": "code",
   "execution_count": 41,
   "metadata": {},
   "outputs": [
    {
     "data": {
      "text/plain": [
       "0"
      ]
     },
     "execution_count": 41,
     "metadata": {},
     "output_type": "execute_result"
    }
   ],
   "source": [
    "A[0][0]"
   ]
  },
  {
   "cell_type": "code",
   "execution_count": 42,
   "metadata": {},
   "outputs": [
    {
     "data": {
      "text/plain": [
       "1"
      ]
     },
     "execution_count": 42,
     "metadata": {},
     "output_type": "execute_result"
    }
   ],
   "source": [
    "A[0][1]"
   ]
  },
  {
   "cell_type": "code",
   "execution_count": 43,
   "metadata": {},
   "outputs": [
    {
     "data": {
      "text/plain": [
       "'a'"
      ]
     },
     "execution_count": 43,
     "metadata": {},
     "output_type": "execute_result"
    }
   ],
   "source": [
    "A[1][0]"
   ]
  },
  {
   "cell_type": "code",
   "execution_count": 44,
   "metadata": {},
   "outputs": [
    {
     "data": {
      "text/plain": [
       "'b'"
      ]
     },
     "execution_count": 44,
     "metadata": {},
     "output_type": "execute_result"
    }
   ],
   "source": [
    "A[1][1]"
   ]
  },
  {
   "cell_type": "markdown",
   "metadata": {},
   "source": [
    "### Unpacking\n",
    "\n",
    "리스트의 원소들을 꺼내오는 개념이다."
   ]
  },
  {
   "cell_type": "code",
   "execution_count": 45,
   "metadata": {},
   "outputs": [
    {
     "name": "stdout",
     "output_type": "stream",
     "text": [
      "1 2\n"
     ]
    }
   ],
   "source": [
    "alist = [1, 2]\n",
    "first, second = alist\n",
    "print(first, second)"
   ]
  },
  {
   "cell_type": "markdown",
   "metadata": {},
   "source": [
    "unpacking의 경우 개수를 맞춰야 한다."
   ]
  },
  {
   "cell_type": "code",
   "execution_count": 46,
   "metadata": {},
   "outputs": [
    {
     "ename": "ValueError",
     "evalue": "too many values to unpack (expected 2)",
     "output_type": "error",
     "traceback": [
      "\u001b[1;31m---------------------------------------------------------------------------\u001b[0m",
      "\u001b[1;31mValueError\u001b[0m                                Traceback (most recent call last)",
      "Input \u001b[1;32mIn [46]\u001b[0m, in \u001b[0;36m<cell line: 3>\u001b[1;34m()\u001b[0m\n\u001b[0;32m      1\u001b[0m \u001b[38;5;66;03m# 에러 발생\u001b[39;00m\n\u001b[0;32m      2\u001b[0m alist \u001b[38;5;241m=\u001b[39m [\u001b[38;5;241m1\u001b[39m, \u001b[38;5;241m2\u001b[39m, \u001b[38;5;241m3\u001b[39m, \u001b[38;5;241m4\u001b[39m, \u001b[38;5;241m5\u001b[39m]\n\u001b[1;32m----> 3\u001b[0m first, second \u001b[38;5;241m=\u001b[39m alist\n",
      "\u001b[1;31mValueError\u001b[0m: too many values to unpack (expected 2)"
     ]
    }
   ],
   "source": [
    "# 에러 발생\n",
    "alist = [1, 2, 3, 4, 5]\n",
    "first, second = alist"
   ]
  },
  {
   "cell_type": "markdown",
   "metadata": {},
   "source": [
    "개수를 정확히 모르거나 유연하게 대처하고 싶을 경우 별표 식(starred expression)을 사용한다."
   ]
  },
  {
   "cell_type": "code",
   "execution_count": 47,
   "metadata": {},
   "outputs": [
    {
     "name": "stdout",
     "output_type": "stream",
     "text": [
      "1 2 [3, 4, 5]\n"
     ]
    }
   ],
   "source": [
    "first, second, *others = alist\n",
    "print(first, second, others)"
   ]
  },
  {
   "cell_type": "code",
   "execution_count": 48,
   "metadata": {},
   "outputs": [
    {
     "name": "stdout",
     "output_type": "stream",
     "text": [
      "1 [2, 3, 4] 5\n"
     ]
    }
   ],
   "source": [
    "first, *others, last = alist\n",
    "print(first, others, last)"
   ]
  },
  {
   "cell_type": "markdown",
   "metadata": {},
   "source": [
    "### list concatenation (`+`), `extend`, `append`"
   ]
  },
  {
   "cell_type": "code",
   "execution_count": 49,
   "metadata": {},
   "outputs": [
    {
     "name": "stdout",
     "output_type": "stream",
     "text": [
      "[1, 2, 3, 4, 5, 6]\n"
     ]
    }
   ],
   "source": [
    "x = [1, 2, 3]\n",
    "x.extend([4, 5, 6])   # x is now [1, 2, 3, 4, 5, 6]\n",
    "print(x)"
   ]
  },
  {
   "cell_type": "markdown",
   "metadata": {},
   "source": [
    "만약 x를 변화시키고 싶지 않으면"
   ]
  },
  {
   "cell_type": "code",
   "execution_count": 50,
   "metadata": {},
   "outputs": [
    {
     "name": "stdout",
     "output_type": "stream",
     "text": [
      "[1, 2, 3]\n",
      "[1, 2, 3, 4, 5, 6]\n"
     ]
    }
   ],
   "source": [
    "x = [1, 2, 3]\n",
    "y = x + [4, 5, 6]   # y is [1, 2, 3, 4, 5, 6] x는 그대로\n",
    "print(x)\n",
    "print(y)"
   ]
  },
  {
   "cell_type": "markdown",
   "metadata": {},
   "source": [
    "* 하나씩 추가할 경우는 append를 많이 씀"
   ]
  },
  {
   "cell_type": "code",
   "execution_count": 51,
   "metadata": {},
   "outputs": [
    {
     "name": "stdout",
     "output_type": "stream",
     "text": [
      "[1, 2, 3, 0]\n"
     ]
    }
   ],
   "source": [
    "x = [1, 2, 3]\n",
    "x.append(0)     # x is now [1, 2, 3, 0]\n",
    "print(x)"
   ]
  },
  {
   "cell_type": "markdown",
   "metadata": {},
   "source": [
    "### list의 다양한 method"
   ]
  },
  {
   "cell_type": "code",
   "execution_count": 52,
   "metadata": {},
   "outputs": [],
   "source": [
    "animals = ['dog', 'cat', 'duck', 'lion', 'snake', 'cat']"
   ]
  },
  {
   "cell_type": "code",
   "execution_count": 53,
   "metadata": {},
   "outputs": [
    {
     "data": {
      "text/plain": [
       "3"
      ]
     },
     "execution_count": 53,
     "metadata": {},
     "output_type": "execute_result"
    }
   ],
   "source": [
    "animals.index('lion')"
   ]
  },
  {
   "cell_type": "code",
   "execution_count": 54,
   "metadata": {},
   "outputs": [
    {
     "data": {
      "text/plain": [
       "1"
      ]
     },
     "execution_count": 54,
     "metadata": {},
     "output_type": "execute_result"
    }
   ],
   "source": [
    "animals.index('cat')"
   ]
  },
  {
   "cell_type": "code",
   "execution_count": 55,
   "metadata": {},
   "outputs": [
    {
     "data": {
      "text/plain": [
       "['dog', 'cat', 'lion', 'snake', 'cat']"
      ]
     },
     "execution_count": 55,
     "metadata": {},
     "output_type": "execute_result"
    }
   ],
   "source": [
    "animals.remove('duck')\n",
    "animals"
   ]
  },
  {
   "cell_type": "code",
   "execution_count": 56,
   "metadata": {},
   "outputs": [
    {
     "data": {
      "text/plain": [
       "['dog', 'lion', 'snake', 'cat']"
      ]
     },
     "execution_count": 56,
     "metadata": {},
     "output_type": "execute_result"
    }
   ],
   "source": [
    "animals.remove('cat')\n",
    "animals"
   ]
  },
  {
   "cell_type": "code",
   "execution_count": 57,
   "metadata": {},
   "outputs": [
    {
     "data": {
      "text/plain": [
       "['dog', 'lion', 'snake']"
      ]
     },
     "execution_count": 57,
     "metadata": {},
     "output_type": "execute_result"
    }
   ],
   "source": [
    "animals.remove('cat')\n",
    "animals"
   ]
  },
  {
   "cell_type": "markdown",
   "metadata": {},
   "source": [
    "* list data type은 다양한 method들을 포함하며 아래의 링크에서 확인\n",
    "* https://docs.python.org/3/tutorial/datastructures.html#more-on-lists\n",
    "    \n",
    "### 참조와 복사\n",
    "\n",
    "* 하나의 객체를 L1, L2가 동시에 지칭하여, L1의 원소가 변하면 L2의 원소도 같이 변함"
   ]
  },
  {
   "cell_type": "code",
   "execution_count": 58,
   "metadata": {},
   "outputs": [],
   "source": [
    "L1 = [1, 2, 3]\n",
    "L2 = L1\n",
    "L1[0] = 4"
   ]
  },
  {
   "cell_type": "code",
   "execution_count": 59,
   "metadata": {},
   "outputs": [
    {
     "name": "stdout",
     "output_type": "stream",
     "text": [
      "[4, 2, 3]\n"
     ]
    }
   ],
   "source": [
    "print(L1)"
   ]
  },
  {
   "cell_type": "code",
   "execution_count": 60,
   "metadata": {},
   "outputs": [
    {
     "name": "stdout",
     "output_type": "stream",
     "text": [
      "[4, 2, 3]\n"
     ]
    }
   ],
   "source": [
    "print(L2)"
   ]
  },
  {
   "cell_type": "markdown",
   "metadata": {},
   "source": [
    "* L1에 새로운 리스트를 대응하면 원래의 참조를 끊고 새로운 대입값을 적용"
   ]
  },
  {
   "cell_type": "code",
   "execution_count": 61,
   "metadata": {},
   "outputs": [],
   "source": [
    "L1 = [1, 2, 3]\n",
    "L2 = L1\n",
    "L1 = [4, 5, 6]"
   ]
  },
  {
   "cell_type": "code",
   "execution_count": 62,
   "metadata": {},
   "outputs": [
    {
     "name": "stdout",
     "output_type": "stream",
     "text": [
      "[4, 5, 6]\n"
     ]
    }
   ],
   "source": [
    "print(L1)"
   ]
  },
  {
   "cell_type": "code",
   "execution_count": 63,
   "metadata": {},
   "outputs": [
    {
     "name": "stdout",
     "output_type": "stream",
     "text": [
      "[1, 2, 3]\n"
     ]
    }
   ],
   "source": [
    "print(L2)"
   ]
  },
  {
   "cell_type": "markdown",
   "metadata": {},
   "source": [
    "* 같은 대상을 참조하는 것이 아니라 대상을 복사하여 사용하고 싶을 때  \n",
    "  * 복사는 얕은 복사와 깊은 복사가 있으며 우리 과정에서는 얕은 복사만 다룬다."
   ]
  },
  {
   "cell_type": "code",
   "execution_count": 64,
   "metadata": {},
   "outputs": [],
   "source": [
    "L1 = [1, 2, 3]\n",
    "L2 = L1[:]     #python2에서 많이 쓰던 방법"
   ]
  },
  {
   "cell_type": "markdown",
   "metadata": {},
   "source": [
    "혹은"
   ]
  },
  {
   "cell_type": "code",
   "execution_count": 65,
   "metadata": {},
   "outputs": [],
   "source": [
    "L2 = list(L1)"
   ]
  },
  {
   "cell_type": "markdown",
   "metadata": {},
   "source": [
    "혹은"
   ]
  },
  {
   "cell_type": "code",
   "execution_count": 66,
   "metadata": {},
   "outputs": [],
   "source": [
    "# Python3에서 가장 추천하는 방법\n",
    "L2 = L1.copy()"
   ]
  },
  {
   "cell_type": "code",
   "execution_count": 67,
   "metadata": {},
   "outputs": [
    {
     "name": "stdout",
     "output_type": "stream",
     "text": [
      "[4, 2, 3]\n"
     ]
    }
   ],
   "source": [
    "L1[0] = 4\n",
    "print(L1)"
   ]
  },
  {
   "cell_type": "code",
   "execution_count": 68,
   "metadata": {},
   "outputs": [
    {
     "name": "stdout",
     "output_type": "stream",
     "text": [
      "[1, 2, 3]\n"
     ]
    }
   ],
   "source": [
    "print(L2)"
   ]
  },
  {
   "cell_type": "markdown",
   "metadata": {},
   "source": [
    "#### 복사의 예\n",
    "\n",
    "* Python 언어의 모든 매개 변수는 참조로 전달된다.\n",
    "* 즉, 함수 내에서 매개 변수가 참조하는 것을 변경하면 변경 내용은 호출 함수 밖에서도 반영된다.\n",
    "* 이를 pass by reference(참조)라고 한다.\n",
    "* 다음 예제를 보면 함수 내부에서 변화가 함수 바깥으로 영향을 미치는 것을 볼 수 있다."
   ]
  },
  {
   "cell_type": "code",
   "execution_count": 69,
   "metadata": {},
   "outputs": [
    {
     "name": "stdout",
     "output_type": "stream",
     "text": [
      "Values inside the function:  [10, 20, 30, [1, 2, 3, 4]]\n",
      "Values outside the function:  [10, 20, 30, [1, 2, 3, 4]]\n"
     ]
    }
   ],
   "source": [
    "def changeme(mylist):\n",
    "    mylist.append([1,2,3,4])\n",
    "    print(\"Values inside the function: \", mylist)\n",
    "    return\n",
    "\n",
    "mylist = [10,20,30]\n",
    "changeme(mylist)\n",
    "print(\"Values outside the function: \", mylist)"
   ]
  },
  {
   "cell_type": "markdown",
   "metadata": {},
   "source": [
    "* 만약 이를 원치 않으면, 다음과 같이 복사하여 사용한다."
   ]
  },
  {
   "cell_type": "code",
   "execution_count": 70,
   "metadata": {},
   "outputs": [
    {
     "name": "stdout",
     "output_type": "stream",
     "text": [
      "Values inside the function:  [10, 20, 30, [1, 2, 3, 4]]\n",
      "Values outside the function:  [10, 20, 30]\n"
     ]
    }
   ],
   "source": [
    "def changeme(mylist):\n",
    "    mylist = mylist.copy()\n",
    "    mylist.append([1,2,3,4])\n",
    "    print(\"Values inside the function: \", mylist)\n",
    "    return\n",
    "\n",
    "mylist = [10,20,30]\n",
    "changeme(mylist)\n",
    "print(\"Values outside the function: \", mylist)"
   ]
  },
  {
   "cell_type": "markdown",
   "metadata": {},
   "source": [
    "#### 복사의 예(2)\n",
    "\n",
    "아래에서 ```removeDup```은 ```L1```과 ```L2```를 비교하여, 중복되는 항목을 ```L1```에서 제거하는 목적을 지닌다.  \n",
    "다음의 두 ```removeDup```를 비교해 보자."
   ]
  },
  {
   "cell_type": "code",
   "execution_count": 71,
   "metadata": {},
   "outputs": [
    {
     "name": "stdout",
     "output_type": "stream",
     "text": [
      "L1 =  [2, 3, 4]\n"
     ]
    }
   ],
   "source": [
    "# 정상적으로 삭제되지 않는 경우\n",
    "def removeDup(L1, L2):\n",
    "    for e1 in L1:\n",
    "        if e1 in L2:\n",
    "            L1.remove(e1)\n",
    "            \n",
    "L1=[1,2,3,4]\n",
    "L2=[1,2,5,6]\n",
    "removeDup(L1, L2)\n",
    "print('L1 = ', L1)"
   ]
  },
  {
   "cell_type": "code",
   "execution_count": 72,
   "metadata": {},
   "outputs": [
    {
     "name": "stdout",
     "output_type": "stream",
     "text": [
      "L1 =  [3, 4]\n"
     ]
    }
   ],
   "source": [
    "# 복사를 사용하여 정상적으로 고칠 수 있다.\n",
    "def removeDup(L1, L2):\n",
    "    for e1 in L1.copy():\n",
    "        if e1 in L2:\n",
    "            L1.remove(e1)\n",
    "            \n",
    "L1=[1,2,3,4]\n",
    "L2=[1,2,5,6]\n",
    "removeDup(L1, L2)\n",
    "print('L1 = ', L1)"
   ]
  },
  {
   "cell_type": "markdown",
   "metadata": {},
   "source": [
    "첫 코드의 문제는 ```for```문 내에서 ```L1```이 변한다는 것이다.  \n",
    "함수가 아닌 ```for```문만을 통해 표현해도 똑같은 문제점을 발견할 수 있다."
   ]
  },
  {
   "cell_type": "code",
   "execution_count": 73,
   "metadata": {},
   "outputs": [
    {
     "name": "stdout",
     "output_type": "stream",
     "text": [
      "L1 =  [2, 3, 4]\n"
     ]
    }
   ],
   "source": [
    "L1=[1,2,3,4]\n",
    "L2=[1,2,5,6]\n",
    "\n",
    "for e1 in L1:\n",
    "    if e1 in L2:\n",
    "        L1.remove(e1)\n",
    "            \n",
    "print('L1 = ', L1)"
   ]
  },
  {
   "cell_type": "code",
   "execution_count": 74,
   "metadata": {},
   "outputs": [
    {
     "name": "stdout",
     "output_type": "stream",
     "text": [
      "L1 =  [3, 4]\n"
     ]
    }
   ],
   "source": [
    "L1=[1,2,3,4]\n",
    "L2=[1,2,5,6]\n",
    "\n",
    "for e1 in L1.copy():\n",
    "    if e1 in L2:\n",
    "        L1.remove(e1)\n",
    "            \n",
    "print('L1 = ', L1)"
   ]
  },
  {
   "cell_type": "markdown",
   "metadata": {},
   "source": [
    "### string과 list의 차이점\n",
    "\n",
    "* string과 list는 인덱스를 통해 접근할 수 있는 등 비슷한 점이 많음"
   ]
  },
  {
   "cell_type": "code",
   "execution_count": 75,
   "metadata": {},
   "outputs": [
    {
     "name": "stdout",
     "output_type": "stream",
     "text": [
      "a\n"
     ]
    }
   ],
   "source": [
    "my_string = 'abcdefg'\n",
    "print(my_string[0])"
   ]
  },
  {
   "cell_type": "markdown",
   "metadata": {},
   "source": [
    "* slice 또한 가능하다."
   ]
  },
  {
   "cell_type": "code",
   "execution_count": 76,
   "metadata": {},
   "outputs": [
    {
     "data": {
      "text/plain": [
       "'ab'"
      ]
     },
     "execution_count": 76,
     "metadata": {},
     "output_type": "execute_result"
    }
   ],
   "source": [
    "my_string[0:2]"
   ]
  },
  {
   "cell_type": "code",
   "execution_count": 77,
   "metadata": {},
   "outputs": [
    {
     "data": {
      "text/plain": [
       "'gfedcba'"
      ]
     },
     "execution_count": 77,
     "metadata": {},
     "output_type": "execute_result"
    }
   ],
   "source": [
    "# simple reverse\n",
    "my_string[::-1]"
   ]
  },
  {
   "cell_type": "markdown",
   "metadata": {},
   "source": [
    "* list는 인덱스를 통해 원소를 변화시키는 것이 가능(mutable)\n",
    " * ```my_list[i] = new_element```"
   ]
  },
  {
   "cell_type": "markdown",
   "metadata": {},
   "source": [
    "* string은 불가능 (immutable)"
   ]
  },
  {
   "cell_type": "code",
   "execution_count": 78,
   "metadata": {},
   "outputs": [
    {
     "ename": "TypeError",
     "evalue": "'str' object does not support item assignment",
     "output_type": "error",
     "traceback": [
      "\u001b[1;31m---------------------------------------------------------------------------\u001b[0m",
      "\u001b[1;31mTypeError\u001b[0m                                 Traceback (most recent call last)",
      "Input \u001b[1;32mIn [78]\u001b[0m, in \u001b[0;36m<cell line: 1>\u001b[1;34m()\u001b[0m\n\u001b[1;32m----> 1\u001b[0m \u001b[43mmy_string\u001b[49m\u001b[43m[\u001b[49m\u001b[38;5;241;43m0\u001b[39;49m\u001b[43m]\u001b[49m \u001b[38;5;241m=\u001b[39m \u001b[38;5;124m'\u001b[39m\u001b[38;5;124mk\u001b[39m\u001b[38;5;124m'\u001b[39m\n",
      "\u001b[1;31mTypeError\u001b[0m: 'str' object does not support item assignment"
     ]
    }
   ],
   "source": [
    "my_string[0] = 'k'"
   ]
  },
  {
   "cell_type": "markdown",
   "metadata": {},
   "source": [
    "### List comprehension\n",
    "\n",
    "-----------------\n",
    "\n",
    "<p> <font color=#00008B> &#9635 List comprehension </font> - 기존 리스트의 각 원소에 식을 적용하고 결과를 수집하여 새로운 리스트를 만드는 과정으로, 기존 리스트의 값을 기반으로 새 리스트를 만들려는 경우 편리하다.</p>\n",
    "\n",
    "기본 문법은 다음과 같다.\n",
    "\n",
    "`[expression for item in iterable if condition]`\n",
    "\n",
    "`[expression for item_1 in iterable_1 for item_2 in iterable_2 ... for item_n in iterable_n if condition]`"
   ]
  },
  {
   "cell_type": "code",
   "execution_count": 79,
   "metadata": {},
   "outputs": [
    {
     "name": "stdout",
     "output_type": "stream",
     "text": [
      "[0, 1, 4, 9]\n"
     ]
    }
   ],
   "source": [
    "squares = [x**2 for x in range(4)]\n",
    "print(squares)"
   ]
  },
  {
   "cell_type": "code",
   "execution_count": 80,
   "metadata": {},
   "outputs": [
    {
     "data": {
      "text/plain": [
       "[(1, 3), (1, 4), (2, 3), (2, 1), (2, 4), (3, 1), (3, 4)]"
      ]
     },
     "execution_count": 80,
     "metadata": {},
     "output_type": "execute_result"
    }
   ],
   "source": [
    "[(x, y) for x in [1, 2, 3] for y in [3, 1, 4] if x!=y]"
   ]
  },
  {
   "cell_type": "code",
   "execution_count": 81,
   "metadata": {},
   "outputs": [
    {
     "data": {
      "text/plain": [
       "[1, 2, 3]"
      ]
     },
     "execution_count": 81,
     "metadata": {},
     "output_type": "execute_result"
    }
   ],
   "source": [
    "[abs(x) for x in [-1, 2, -3]]"
   ]
  },
  {
   "cell_type": "code",
   "execution_count": 82,
   "metadata": {},
   "outputs": [
    {
     "data": {
      "text/plain": [
       "['3.1', '3.14', '3.142', '3.1416', '3.14159']"
      ]
     },
     "execution_count": 82,
     "metadata": {},
     "output_type": "execute_result"
    }
   ],
   "source": [
    "from math import pi\n",
    "[str(round(pi, i)) for i in range(1, 6)]"
   ]
  },
  {
   "cell_type": "code",
   "execution_count": 83,
   "metadata": {},
   "outputs": [
    {
     "name": "stdout",
     "output_type": "stream",
     "text": [
      "[1, 4, 9]\n"
     ]
    }
   ],
   "source": [
    "mixed = [1, 2, 'a', 3, 4.0]\n",
    "print([x**2 for x in mixed if type(x) == int])"
   ]
  },
  {
   "cell_type": "markdown",
   "metadata": {},
   "source": [
    "```else``` 혹은 `elif`와 함께 사용될 때는 문법이 조금 다르다.\n",
    "\n",
    "`[expression if condition else alternative_expression for item in iterable]`\n",
    "\n",
    "`[expression_1 if condition_1 elif condition_2 else expression_2 for item in iterable]`"
   ]
  },
  {
   "cell_type": "code",
   "execution_count": 84,
   "metadata": {},
   "outputs": [
    {
     "name": "stdout",
     "output_type": "stream",
     "text": [
      "[0, 4, 0, 16, 0, 36, 0]\n"
     ]
    }
   ],
   "source": [
    "integers = [1, 2, 3, 4, 5, 6, 7]\n",
    "print([x**2 if x % 2 == 0 else 0 for x in integers])"
   ]
  },
  {
   "cell_type": "markdown",
   "metadata": {},
   "source": [
    "### Sorting - 정렬\n",
    "\n",
    "Python 리스트는 `sort()` method를 이용하여 정렬 가능"
   ]
  },
  {
   "cell_type": "code",
   "execution_count": 85,
   "metadata": {
    "tags": []
   },
   "outputs": [
    {
     "name": "stdout",
     "output_type": "stream",
     "text": [
      "[4, 1, 2, 3]\n",
      "[1, 2, 3, 4]\n"
     ]
    }
   ],
   "source": [
    "x = [4, 1, 2, 3]\n",
    "y = sorted(x)    # y는 [1, 2, 3, 4], x는 변하지 않음\n",
    "print(x)\n",
    "print(y)"
   ]
  },
  {
   "cell_type": "code",
   "execution_count": 86,
   "metadata": {
    "tags": []
   },
   "outputs": [
    {
     "name": "stdout",
     "output_type": "stream",
     "text": [
      "[1, 2, 3, 4]\n"
     ]
    }
   ],
   "source": [
    "x.sort()            # x가 이제 [1, 2, 3, 4]\n",
    "print(x)"
   ]
  },
  {
   "cell_type": "markdown",
   "metadata": {},
   "source": [
    "응용 : 절대값 기준으로 내림차순으로 정렬"
   ]
  },
  {
   "cell_type": "code",
   "execution_count": 87,
   "metadata": {
    "tags": []
   },
   "outputs": [
    {
     "name": "stdout",
     "output_type": "stream",
     "text": [
      "[-4, 3, -2, 1]\n"
     ]
    }
   ],
   "source": [
    "x = sorted([-4, 1, -2, 3], key=abs, reverse=True)\n",
    "print(x)"
   ]
  },
  {
   "cell_type": "code",
   "execution_count": 88,
   "metadata": {
    "tags": []
   },
   "outputs": [
    {
     "data": {
      "text/plain": [
       "['abcd', 'abc', 'ab', 'a']"
      ]
     },
     "execution_count": 88,
     "metadata": {},
     "output_type": "execute_result"
    }
   ],
   "source": [
    "sorted([\"abc\", \"a\", \"ab\", \"abcd\"], key=len, reverse=True)"
   ]
  },
  {
   "cell_type": "markdown",
   "metadata": {},
   "source": [
    "* 위 예제들에서 ```key```라는 인자로 함수가 전달됨을 볼 수 있다.  \n",
    "* 이미 만들어진 함수뿐만 아니라, anonymous 함수 등도 전달 가능하다."
   ]
  },
  {
   "cell_type": "code",
   "execution_count": 89,
   "metadata": {
    "tags": []
   },
   "outputs": [
    {
     "data": {
      "text/plain": [
       "['alpaca', 'crab', 'panic', 'add', 'fine']"
      ]
     },
     "execution_count": 89,
     "metadata": {},
     "output_type": "execute_result"
    }
   ],
   "source": [
    "sorted([\"fine\", \"crab\", \"panic\", \"alpaca\", \"add\"], key = lambda x: x[-1], reverse=False)"
   ]
  },
  {
   "cell_type": "markdown",
   "metadata": {},
   "source": [
    "### 랜덤 (random) 리스트\n",
    "\n",
    "아래 예제는 0과 1사이의 임의의 실수를 랜덤하게 4번 생성하여 리스트로 만들고자 한다.\n",
    "* ```random.random()```은 0과 1사이에서 uniform하게 분포된 랜덤 숫자를 반환\n",
    "* ```_```는 다시 사용하지 않을 dummy variable을 표현\n",
    "  * ```x```로 바꾸어도 상관없음"
   ]
  },
  {
   "cell_type": "code",
   "execution_count": 90,
   "metadata": {
    "tags": []
   },
   "outputs": [
    {
     "name": "stdout",
     "output_type": "stream",
     "text": [
      "[0.6674772465212987, 0.7998581399652266, 0.556430943602031, 0.04582142935919964]\n"
     ]
    }
   ],
   "source": [
    "import random\n",
    "four_uniform_randoms = [random.random() for _ in range(4)]\n",
    "print(four_uniform_randoms)"
   ]
  },
  {
   "cell_type": "markdown",
   "metadata": {},
   "source": [
    "랜덤 샘플 추출 (중복 허용하지 않음)\n",
    "* 0이상 60미만의 정수 중 중복을 허용하지 않고 6개의 랜덤 샘플을 추출"
   ]
  },
  {
   "cell_type": "code",
   "execution_count": 91,
   "metadata": {
    "tags": []
   },
   "outputs": [
    {
     "data": {
      "text/plain": [
       "[58, 22, 55, 41, 21, 31]"
      ]
     },
     "execution_count": 91,
     "metadata": {},
     "output_type": "execute_result"
    }
   ],
   "source": [
    "lottery_numbers = range(60)\n",
    "random.sample(lottery_numbers, 6)   # 6개의 랜덤 샘플"
   ]
  },
  {
   "cell_type": "markdown",
   "metadata": {},
   "source": [
    "랜덤 선택 (중복 허용)\n",
    "* 0이상 10미만의 수를 중복 허용하여 4번 추출\n",
    "* ```random.choice()```는 주어진 값들 중 임의의 하나의 값을 선택"
   ]
  },
  {
   "cell_type": "code",
   "execution_count": 92,
   "metadata": {
    "tags": []
   },
   "outputs": [
    {
     "name": "stdout",
     "output_type": "stream",
     "text": [
      "[8, 2, 5, 6]\n"
     ]
    }
   ],
   "source": [
    "four_with_replacement = [random.choice(range(10)) for _ in range(4)]\n",
    "print(four_with_replacement)"
   ]
  },
  {
   "cell_type": "markdown",
   "metadata": {},
   "source": [
    "### Tuple - 투플\n",
    "\n",
    "* Tuple은 list와 매우 비슷함\n",
    "  * 단 immutable\n",
    "  * 내용을 바꾸는 연산을 제외한 list의 많은 연산을 똑같이 수행 가능\n",
    "  * `[ ]`가 아닌 `( )` 혹은 아무런 괄호 없이 표현"
   ]
  },
  {
   "cell_type": "code",
   "execution_count": 93,
   "metadata": {},
   "outputs": [
    {
     "ename": "TypeError",
     "evalue": "'tuple' object does not support item assignment",
     "output_type": "error",
     "traceback": [
      "\u001b[1;31m---------------------------------------------------------------------------\u001b[0m",
      "\u001b[1;31mTypeError\u001b[0m                                 Traceback (most recent call last)",
      "Input \u001b[1;32mIn [93]\u001b[0m, in \u001b[0;36m<cell line: 2>\u001b[1;34m()\u001b[0m\n\u001b[0;32m      1\u001b[0m my_tuple \u001b[38;5;241m=\u001b[39m (\u001b[38;5;241m1\u001b[39m, \u001b[38;5;241m2\u001b[39m)\n\u001b[1;32m----> 2\u001b[0m \u001b[43mmy_tuple\u001b[49m\u001b[43m[\u001b[49m\u001b[38;5;241;43m1\u001b[39;49m\u001b[43m]\u001b[49m \u001b[38;5;241m=\u001b[39m \u001b[38;5;241m3\u001b[39m\n",
      "\u001b[1;31mTypeError\u001b[0m: 'tuple' object does not support item assignment"
     ]
    }
   ],
   "source": [
    "my_tuple = (1, 2)\n",
    "my_tuple[1] = 3 "
   ]
  },
  {
   "cell_type": "markdown",
   "metadata": {},
   "source": [
    "함수에서 여러 값을 같이 반환할 때 유용하다."
   ]
  },
  {
   "cell_type": "code",
   "execution_count": 94,
   "metadata": {},
   "outputs": [],
   "source": [
    "def sum_product(x, y): return x+y, x*y"
   ]
  },
  {
   "cell_type": "code",
   "execution_count": 95,
   "metadata": {},
   "outputs": [
    {
     "data": {
      "text/plain": [
       "(5, 6)"
      ]
     },
     "execution_count": 95,
     "metadata": {},
     "output_type": "execute_result"
    }
   ],
   "source": [
    "sum_product(2, 3)"
   ]
  },
  {
   "cell_type": "markdown",
   "metadata": {},
   "source": [
    "여러 값을 동시에 부여 (list로도 가능)"
   ]
  },
  {
   "cell_type": "code",
   "execution_count": 96,
   "metadata": {},
   "outputs": [
    {
     "name": "stdout",
     "output_type": "stream",
     "text": [
      "2 1\n"
     ]
    }
   ],
   "source": [
    "x, y = (1, 2)\n",
    "x, y = y, x     #Python에서 두 변수 값을 swap하는 법\n",
    "print(x, y)"
   ]
  },
  {
   "cell_type": "markdown",
   "metadata": {},
   "source": [
    "<p> &#9635 예제 : Tuple </p>"
   ]
  },
  {
   "cell_type": "code",
   "execution_count": 97,
   "metadata": {},
   "outputs": [],
   "source": [
    "t1 = ()\n",
    "t2 = (1, 'two', 3)\n",
    "t3 = (10,)   # 원소가 하나인 tuple"
   ]
  },
  {
   "cell_type": "code",
   "execution_count": 98,
   "metadata": {},
   "outputs": [
    {
     "name": "stdout",
     "output_type": "stream",
     "text": [
      "()\n"
     ]
    }
   ],
   "source": [
    "print(t1)"
   ]
  },
  {
   "cell_type": "code",
   "execution_count": 99,
   "metadata": {},
   "outputs": [
    {
     "name": "stdout",
     "output_type": "stream",
     "text": [
      "(1, 'two', 3)\n"
     ]
    }
   ],
   "source": [
    "print(t2)"
   ]
  },
  {
   "cell_type": "code",
   "execution_count": 100,
   "metadata": {},
   "outputs": [
    {
     "name": "stdout",
     "output_type": "stream",
     "text": [
      "(10,)\n"
     ]
    }
   ],
   "source": [
    "print(t3)"
   ]
  },
  {
   "cell_type": "code",
   "execution_count": 101,
   "metadata": {},
   "outputs": [],
   "source": [
    "t1 = (1, 'two', 3)\n",
    "t2 = (t1, 3.25)"
   ]
  },
  {
   "cell_type": "code",
   "execution_count": 102,
   "metadata": {},
   "outputs": [
    {
     "name": "stdout",
     "output_type": "stream",
     "text": [
      "((1, 'two', 3), 3.25)\n"
     ]
    }
   ],
   "source": [
    "print(t2)"
   ]
  },
  {
   "cell_type": "code",
   "execution_count": 103,
   "metadata": {},
   "outputs": [
    {
     "name": "stdout",
     "output_type": "stream",
     "text": [
      "(1, 'two', 3, (1, 'two', 3), 3.25)\n"
     ]
    }
   ],
   "source": [
    "print(t1 + t2)"
   ]
  },
  {
   "cell_type": "code",
   "execution_count": 104,
   "metadata": {},
   "outputs": [
    {
     "name": "stdout",
     "output_type": "stream",
     "text": [
      "(1, 'two', 3)\n"
     ]
    }
   ],
   "source": [
    "print((t1 + t2)[3])"
   ]
  },
  {
   "cell_type": "code",
   "execution_count": 105,
   "metadata": {},
   "outputs": [
    {
     "name": "stdout",
     "output_type": "stream",
     "text": [
      "(3, (1, 'two', 3), 3.25)\n"
     ]
    }
   ],
   "source": [
    "print((t1 + t2)[2:5])"
   ]
  },
  {
   "cell_type": "markdown",
   "metadata": {},
   "source": [
    "<p> &#9635 Example : 공약수 </p>\n",
    "\n",
    "아래 예제에서는 ```findDivisors``` 함수가 공약수들을 투플로 만들어 반환하고 있다.\n",
    "\n",
    "리스트를 반환하도록 바꾸어 보자. 그러면서 ```append``` method도 활용해 보자."
   ]
  },
  {
   "cell_type": "code",
   "execution_count": 106,
   "metadata": {},
   "outputs": [],
   "source": [
    "def findDivisors (n1, n2):\n",
    "    divisors = ()  #empty tuple\n",
    "    for i in range(1, min (n1, n2) + 1):\n",
    "        if n1%i == 0 and n2%i == 0:\n",
    "            divisors = divisors + (i, )\n",
    "    return divisors"
   ]
  },
  {
   "cell_type": "code",
   "execution_count": 107,
   "metadata": {},
   "outputs": [
    {
     "name": "stdout",
     "output_type": "stream",
     "text": [
      "(1, 2, 4, 5, 10, 20)\n"
     ]
    }
   ],
   "source": [
    "divisors = findDivisors(20, 100)\n",
    "print(divisors)"
   ]
  },
  {
   "cell_type": "markdown",
   "metadata": {},
   "source": [
    "### `for`문과 list 혹은 tuple의 연계"
   ]
  },
  {
   "cell_type": "code",
   "execution_count": 108,
   "metadata": {},
   "outputs": [],
   "source": [
    "my_list = [10, 'hi', -1.2, 'first']"
   ]
  },
  {
   "cell_type": "code",
   "execution_count": 109,
   "metadata": {},
   "outputs": [
    {
     "name": "stdout",
     "output_type": "stream",
     "text": [
      "10\n",
      "hi\n",
      "-1.2\n",
      "first\n"
     ]
    }
   ],
   "source": [
    "for x in my_list:\n",
    "    print(x)"
   ]
  },
  {
   "cell_type": "code",
   "execution_count": 110,
   "metadata": {},
   "outputs": [
    {
     "name": "stdout",
     "output_type": "stream",
     "text": [
      "Jack\n",
      "Jane\n",
      "Susan\n",
      "Tom\n"
     ]
    }
   ],
   "source": [
    "student_list = ['Tom', 'Jack', 'Jane', 'Susan']\n",
    "student_list.sort()\n",
    "for student in student_list:\n",
    "    print(student)"
   ]
  },
  {
   "cell_type": "markdown",
   "metadata": {},
   "source": [
    "### String, tuple, list 공통적인 기능\n",
    "\n",
    "* ```seq[i]``` : i번째 원소\n",
    "* ```len(seq)``` : 길이\n",
    "* ```seq1 + seq2``` : 연결\n",
    "* ```n * seq``` : n번 반복\n",
    "* ```seq[start:end]``` : 일부\n",
    "* ```e in seq``` : 만약 e가 seq에 속하면 True, 아니면 False\n",
    "* ```e not in seq``` : 만약 e가 seq에 속하면 False, 아니면 True\n",
    "* ```for e in seq``` : 반복문"
   ]
  },
  {
   "cell_type": "markdown",
   "metadata": {},
   "source": [
    "## Iterator and generator\n",
    "\n",
    "----\n",
    "\n",
    "### Iterator\n",
    "\n",
    "<p> <font color=#00008B> &#9635 Container </font> - 여러 값들을 담고 있는 객체이며, 리스트, 투플, 문자열, 딕셔너리 등이 있다. </p>\n",
    "\n",
    "<p> <font color=#00008B> &#9635 Iterable </font> - <code>iter()</code> 함수를 통해, iterator를 반환할 수 있는 객체이며, 대부분의 container들이 해당된다. 이런 container들을 iterable container라고도 한다.\n",
    "    \n",
    "<p> <font color=#00008B> &#9635 Iterator </font> - <code>next()</code> 한 번에 하나씩 다음 차례의 멤버를 반환할 수 있는 객체로서 <code>for</code> 루프에서 반복을 사용할 수 있도록 한다."
   ]
  },
  {
   "cell_type": "markdown",
   "metadata": {},
   "source": [
    "아래 코드에서 `student_list`는 여러 값을 담고 있는 container이며 `iter()` 함수를 적용할 수 있기 때문에 iterable container이다."
   ]
  },
  {
   "cell_type": "code",
   "execution_count": 111,
   "metadata": {},
   "outputs": [],
   "source": [
    "student_list = ['Tom', 'Jack', 'Jane', 'Susan']"
   ]
  },
  {
   "cell_type": "markdown",
   "metadata": {},
   "source": [
    "`iter(student_list)`를 수행하면, iterator를 반환하며,"
   ]
  },
  {
   "cell_type": "code",
   "execution_count": 112,
   "metadata": {
    "tags": []
   },
   "outputs": [],
   "source": [
    "iterator_obj = iter(student_list) "
   ]
  },
  {
   "cell_type": "markdown",
   "metadata": {},
   "source": [
    "iterator는 `next()` 함수를 통해 다음 차례의 원소를 순차적으로 반환할 수 있다."
   ]
  },
  {
   "cell_type": "code",
   "execution_count": 113,
   "metadata": {},
   "outputs": [
    {
     "name": "stdout",
     "output_type": "stream",
     "text": [
      "Tom\n",
      "Jack\n",
      "Jane\n",
      "Susan\n"
     ]
    }
   ],
   "source": [
    "print(next(iterator_obj)) \n",
    "print(next(iterator_obj)) \n",
    "print(next(iterator_obj)) \n",
    "print(next(iterator_obj)) "
   ]
  },
  {
   "cell_type": "markdown",
   "metadata": {},
   "source": [
    "<img src=\"data:image/png;base64,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\" width=\"550\" alt=\"\" />"
   ]
  },
  {
   "cell_type": "markdown",
   "metadata": {},
   "source": [
    "Iterable container가 `for` loop에서 바로 활용될 때 Python 내부적으로는 ```iter()``` 함수를 이용하여 iterator로 변환하여 사용한다."
   ]
  },
  {
   "cell_type": "code",
   "execution_count": 114,
   "metadata": {},
   "outputs": [
    {
     "name": "stdout",
     "output_type": "stream",
     "text": [
      "1\n",
      "2\n",
      "1\n",
      "2\n"
     ]
    }
   ],
   "source": [
    "# 다음의 두 코드는 같은 역할을 수행한다..\n",
    "for x in [1,2]:\n",
    "    print(x)\n",
    "    \n",
    "for x in iter([1,2]):\n",
    "    print(x)"
   ]
  },
  {
   "cell_type": "markdown",
   "metadata": {},
   "source": [
    "### Generator\n",
    "<p> <font color=#00008B> &#9635  Generator </font> - iterator의 특별한 종류로, 각 멤버를 생성하는 방법을 작성한 후, 모든 멤버를 미리 만들어 놓지 않고, 반복을 통해 요청될 때만 다음 차례의 멤버를 한 번에 하나씩 생성한다. </p>\n",
    "\n",
    "* List의 문제 중 하나는 그 길이가 매우 커질 수 있다는 점.\n",
    "* 예를 들어 Python2에서 ```range(1000000)```은 백만 개의 원소를 가지는 list. (Python3에서는 list가 아님)\n",
    "    * 때로는 단순히 for문을 돌리기 위해 이 데이터를 모두 생성하여 메모리에 저장하는 것은 낭비일 수 있음.\n",
    "* Python3에서는 ```for```문에서 ```range(1000000)```가 generator를 통해 활용된다.\n",
    "    * ```for```문 등을 이용하여 반복 가능하지만, 그 값들을 생성하는 것은 필요한 경우만 실행.\n",
    "    * ```range()```자체는 generator는 아니지만 ```for```문에서 활용될 때는 generator로 변환하여 실행됨.\n",
    "* Python2에서는 이와 같은 역할을 하는 ```xrange```라 불리우는 함수가 있음"
   ]
  },
  {
   "cell_type": "markdown",
   "metadata": {},
   "source": [
    "#### ```[0, 1, 2, 3, 4]```와 ```range(5)```의 차이:\n",
    "\n",
    "Python3에서는 ```range(5)```는 숫자 0-4의 수열을 생성하는 데 필요한 명령을 저장하지만, list ```[0, 1, 2, 3, 4]```은 속해 있는 모든 값을 메모리에 저장한다.\n",
    " * Python2에서는 ```[0, 1, 2, 3, 4]```와 ```range(5)```는 같다."
   ]
  },
  {
   "cell_type": "code",
   "execution_count": 115,
   "metadata": {
    "tags": []
   },
   "outputs": [
    {
     "name": "stdout",
     "output_type": "stream",
     "text": [
      "range(0, 5)\n"
     ]
    }
   ],
   "source": [
    "# Python 3에서 range(5)로 [0,1,2,3,4]를 생성할 수 있지만, 실제로 [0,1,2,3,4]와 같은 것은 아니다.\n",
    "print(range(5))"
   ]
  },
  {
   "cell_type": "code",
   "execution_count": 116,
   "metadata": {
    "tags": []
   },
   "outputs": [
    {
     "name": "stdout",
     "output_type": "stream",
     "text": [
      "[0, 1, 2, 3, 4]\n"
     ]
    }
   ],
   "source": [
    "print([0,1,2,3,4])"
   ]
  },
  {
   "cell_type": "code",
   "execution_count": 117,
   "metadata": {},
   "outputs": [
    {
     "ename": "TypeError",
     "evalue": "unsupported operand type(s) for +: 'range' and 'range'",
     "output_type": "error",
     "traceback": [
      "\u001b[1;31m---------------------------------------------------------------------------\u001b[0m",
      "\u001b[1;31mTypeError\u001b[0m                                 Traceback (most recent call last)",
      "Input \u001b[1;32mIn [117]\u001b[0m, in \u001b[0;36m<cell line: 2>\u001b[1;34m()\u001b[0m\n\u001b[0;32m      1\u001b[0m \u001b[38;5;66;03m# range()를 list처럼 합치면 예상치 못한 결과가 나올 수 있음\u001b[39;00m\n\u001b[1;32m----> 2\u001b[0m \u001b[38;5;28;01mfor\u001b[39;00m i \u001b[38;5;129;01min\u001b[39;00m \u001b[38;5;28mrange\u001b[39m(\u001b[38;5;241m3\u001b[39m) \u001b[38;5;241m+\u001b[39m \u001b[38;5;28mrange\u001b[39m(\u001b[38;5;241m3\u001b[39m,\u001b[38;5;241m6\u001b[39m): \u001b[38;5;28mprint\u001b[39m(i)\n",
      "\u001b[1;31mTypeError\u001b[0m: unsupported operand type(s) for +: 'range' and 'range'"
     ]
    }
   ],
   "source": [
    "# range()를 list처럼 합치면 예상치 못한 결과가 나올 수 있음\n",
    "for i in range(3) + range(3,6): print(i)"
   ]
  },
  {
   "cell_type": "code",
   "execution_count": 118,
   "metadata": {},
   "outputs": [
    {
     "name": "stdout",
     "output_type": "stream",
     "text": [
      "0\n",
      "1\n",
      "2\n",
      "3\n",
      "4\n",
      "5\n"
     ]
    }
   ],
   "source": [
    "# list로 변환하여 해결하는 방안이 있음\n",
    "for i in list(range(3)) + list(range(3,6)): print(i)"
   ]
  },
  {
   "cell_type": "code",
   "execution_count": 119,
   "metadata": {},
   "outputs": [
    {
     "data": {
      "text/plain": [
       "[0, 1, 2, 3, 0, 1, 2, 3, 4]"
      ]
     },
     "execution_count": 119,
     "metadata": {},
     "output_type": "execute_result"
    }
   ],
   "source": [
    "list(range(4)) + list(range(5))"
   ]
  },
  {
   "cell_type": "markdown",
   "metadata": {},
   "source": [
    "####  generator 만들기\n",
    "\n",
    "* generator는 ```return``` 대신 ```yield``` 키워드를 이용하면 만들 수 있다.\n",
    "* generator의 특성상 무한한 값을 생성하는 것도 가능하다."
   ]
  },
  {
   "cell_type": "code",
   "execution_count": 120,
   "metadata": {},
   "outputs": [],
   "source": [
    "def even_numbers():\n",
    "    n = 1\n",
    "    while True:\n",
    "        if (n % 2 == 0): yield n\n",
    "        n += 1"
   ]
  },
  {
   "cell_type": "code",
   "execution_count": 121,
   "metadata": {},
   "outputs": [
    {
     "data": {
      "text/plain": [
       "<generator object even_numbers at 0x000001CBF4309D60>"
      ]
     },
     "execution_count": 121,
     "metadata": {},
     "output_type": "execute_result"
    }
   ],
   "source": [
    "even_numbers()"
   ]
  },
  {
   "cell_type": "code",
   "execution_count": 122,
   "metadata": {},
   "outputs": [
    {
     "name": "stdout",
     "output_type": "stream",
     "text": [
      "2\n",
      "4\n",
      "6\n"
     ]
    }
   ],
   "source": [
    "g = even_numbers()\n",
    "print(next(g))\n",
    "print(next(g))\n",
    "print(next(g))"
   ]
  },
  {
   "cell_type": "code",
   "execution_count": 123,
   "metadata": {},
   "outputs": [
    {
     "name": "stdout",
     "output_type": "stream",
     "text": [
      "2 4 6 8 10 12 14 16 18 20 22 24 26 28 30 32 34 36 38 40 42 44 46 48 50 52 54 56 58 60 62 64 66 68 70 72 74 76 78 80 82 84 86 88 90 92 94 96 98 100 "
     ]
    }
   ],
   "source": [
    "for i in even_numbers():\n",
    "    print(i, end=\" \")\n",
    "    if (i >= 100): break  #break가 없으면 무한 루프 생성"
   ]
  },
  {
   "cell_type": "markdown",
   "metadata": {},
   "source": [
    "### `enumerate`\n",
    "\n",
    "* enumerate을 이용하여 인덱스와 리스트의 값에 접근할 수 있다.\n",
    "* (index, value)로 이루어진 (generator와 매우 흡사한) iterator를 반환하여 ```for```문 등에서 사용 가능 \n",
    "* list로 변환하여 활용하려면 ```list()```를 이용"
   ]
  },
  {
   "cell_type": "code",
   "execution_count": 124,
   "metadata": {},
   "outputs": [
    {
     "name": "stdout",
     "output_type": "stream",
     "text": [
      "0 Tom\n",
      "1 Jane\n",
      "2 Susie\n",
      "3 Chris\n"
     ]
    }
   ],
   "source": [
    "student_list = ['Tom', 'Jane', 'Susie', 'Chris']\n",
    "for index, value in enumerate(student_list):\n",
    "    print(index, value)"
   ]
  },
  {
   "cell_type": "code",
   "execution_count": 125,
   "metadata": {},
   "outputs": [
    {
     "data": {
      "text/plain": [
       "<enumerate at 0x1cbf42e0bc0>"
      ]
     },
     "execution_count": 125,
     "metadata": {},
     "output_type": "execute_result"
    }
   ],
   "source": [
    "enumerate(student_list)"
   ]
  },
  {
   "cell_type": "code",
   "execution_count": 126,
   "metadata": {},
   "outputs": [
    {
     "data": {
      "text/plain": [
       "[(0, 'Spring'), (1, 'Summer'), (2, 'Fall'), (3, 'Winter')]"
      ]
     },
     "execution_count": 126,
     "metadata": {},
     "output_type": "execute_result"
    }
   ],
   "source": [
    "seasons = ['Spring', 'Summer', 'Fall', 'Winter']\n",
    "list(enumerate(seasons))"
   ]
  },
  {
   "cell_type": "markdown",
   "metadata": {},
   "source": [
    "list의 index를 기반으로 for문을 활용하려면 크게 다음의 두 가지 방법이 있다.\n",
    "\n",
    "두 방법은 같은 효과를 가지며 어떤 것을 활용해도 상관은 없지만 Python에서는 두 번째 방법을 많이 사용한다.\n",
    "\n",
    "* for i in range(len(some_list)):   \n",
    "&nbsp;&nbsp;&nbsp;&nbsp;do something(i)&nbsp;&nbsp;&nbsp;&nbsp;     # not Pythonic   \n",
    "\n",
    "* for i, _ in enumerate(some_list) :   \n",
    "&nbsp;&nbsp;&nbsp;&nbsp;do something(i)&nbsp;&nbsp;&nbsp;&nbsp;  # Pythonic"
   ]
  },
  {
   "cell_type": "markdown",
   "metadata": {},
   "source": [
    "### zip\n",
    "\n",
    "* 두 개 이상의 리스트를 원소 별로 합쳐서 tuple들의 iterator로 생성\n",
    "  * ```enumerate```과 마찬가지로 generator와 흡사한 성질을 지님\n",
    "* iterator로 만들어지기 때문에 실체를 확인하려면 ```list()```를 이용하여 list로 만들어 확인"
   ]
  },
  {
   "cell_type": "code",
   "execution_count": 127,
   "metadata": {},
   "outputs": [
    {
     "name": "stdout",
     "output_type": "stream",
     "text": [
      "1 4\n",
      "2 5\n",
      "3 6\n"
     ]
    }
   ],
   "source": [
    "x = [1, 2, 3]\n",
    "y = [4, 5, 6]\n",
    "for xi, yi in zip(x, y):\n",
    "    print(xi, yi)"
   ]
  },
  {
   "cell_type": "code",
   "execution_count": 128,
   "metadata": {},
   "outputs": [
    {
     "name": "stdout",
     "output_type": "stream",
     "text": [
      "<zip object at 0x000001CBF4320840>\n"
     ]
    }
   ],
   "source": [
    "zipped = zip(x, y) # iterator for [(1, 4), (2, 5), (3, 6)]\n",
    "print(zipped)"
   ]
  },
  {
   "cell_type": "code",
   "execution_count": 129,
   "metadata": {},
   "outputs": [
    {
     "name": "stdout",
     "output_type": "stream",
     "text": [
      "(1, 4)\n",
      "(2, 5)\n",
      "(3, 6)\n"
     ]
    }
   ],
   "source": [
    "for z in zipped: print(z)"
   ]
  },
  {
   "cell_type": "code",
   "execution_count": 130,
   "metadata": {},
   "outputs": [
    {
     "name": "stdout",
     "output_type": "stream",
     "text": [
      "[]\n"
     ]
    }
   ],
   "source": [
    "# iterator zipped가 한 바퀴 돌았기 때문에, 빈 list가 생성된다.\n",
    "print(list(zipped))"
   ]
  },
  {
   "cell_type": "code",
   "execution_count": 131,
   "metadata": {},
   "outputs": [
    {
     "name": "stdout",
     "output_type": "stream",
     "text": [
      "[(1, 4), (2, 5), (3, 6)]\n"
     ]
    }
   ],
   "source": [
    "# Do zip again.\n",
    "x = [1, 2, 3]\n",
    "y = [4, 5, 6]\n",
    "zipped = zip(x, y) # iterator for [(1, 4), (2, 5), (3, 6)]\n",
    "print(list(zipped))    "
   ]
  },
  {
   "cell_type": "code",
   "execution_count": 132,
   "metadata": {},
   "outputs": [
    {
     "data": {
      "text/plain": [
       "[(1, 4, 7), (2, 5, 8), (3, 6, 9)]"
      ]
     },
     "execution_count": 132,
     "metadata": {},
     "output_type": "execute_result"
    }
   ],
   "source": [
    "list(zip([1, 2, 3], [4, 5, 6], [7, 8, 9]))"
   ]
  },
  {
   "cell_type": "markdown",
   "metadata": {},
   "source": [
    "## Dictionary\n",
    "------\n",
    "<p> <font color=#00008B> &#9635  Dictionary </font> -  key : value 형태의 대응 관계를 나타내는 자료형 </p>\n",
    "\n",
    "* Dictionary는 list처럼 여러 원소들을 하나의 collection으로 사용\n",
    "  * List에서는 index를 통하여 원소에 접근하였지만, dictionary에서는 key를 통하여 접근\n",
    "* Dictionary의 기본 구조\n",
    "  * ```{key1: element1, key2: element2, … }```\n",
    "* key는 일반적으로 string이나 숫자를 사용\n",
    "  * 예제 – 학생 이름과 점수\n",
    "   * ```{'Tom': 92, 'Jane': 95, 'Amy': 73, 'Nick': 81}```\n",
    "   * 학생 이름이 key로 사용되었으며, 점수가 값으로 사용됨\n",
    "* dictionary는 key의 순서가 중요하지 않음(unordered)"
   ]
  },
  {
   "cell_type": "markdown",
   "metadata": {},
   "source": [
    "### key를 통한 접근"
   ]
  },
  {
   "cell_type": "code",
   "execution_count": 133,
   "metadata": {},
   "outputs": [],
   "source": [
    "scores = {'Tom': 92, 'Jane': 95, 'Amy': 73, 'Nick': 81}"
   ]
  },
  {
   "cell_type": "code",
   "execution_count": 134,
   "metadata": {},
   "outputs": [
    {
     "data": {
      "text/plain": [
       "92"
      ]
     },
     "execution_count": 134,
     "metadata": {},
     "output_type": "execute_result"
    }
   ],
   "source": [
    "scores['Tom']"
   ]
  },
  {
   "cell_type": "code",
   "execution_count": 135,
   "metadata": {},
   "outputs": [
    {
     "ename": "KeyError",
     "evalue": "0",
     "output_type": "error",
     "traceback": [
      "\u001b[1;31m---------------------------------------------------------------------------\u001b[0m",
      "\u001b[1;31mKeyError\u001b[0m                                  Traceback (most recent call last)",
      "Input \u001b[1;32mIn [135]\u001b[0m, in \u001b[0;36m<cell line: 1>\u001b[1;34m()\u001b[0m\n\u001b[1;32m----> 1\u001b[0m \u001b[43mscores\u001b[49m\u001b[43m[\u001b[49m\u001b[38;5;241;43m0\u001b[39;49m\u001b[43m]\u001b[49m\n",
      "\u001b[1;31mKeyError\u001b[0m: 0"
     ]
    }
   ],
   "source": [
    "scores[0]  # error 발생 : index를 통해 접근할 수 없음"
   ]
  },
  {
   "cell_type": "markdown",
   "metadata": {},
   "source": [
    "* list에서와 같이 key를 통하여 원소의 내용을 바꿀 수 있음 (mutable)"
   ]
  },
  {
   "cell_type": "code",
   "execution_count": 136,
   "metadata": {},
   "outputs": [
    {
     "name": "stdout",
     "output_type": "stream",
     "text": [
      "{'Tom': 100, 'Jane': 95, 'Amy': 73, 'Nick': 81}\n"
     ]
    }
   ],
   "source": [
    "scores['Tom'] = 100\n",
    "print(scores)"
   ]
  },
  {
   "cell_type": "markdown",
   "metadata": {},
   "source": [
    "* 기존에 'Robin'이 없으므로 새로운 원소 추가"
   ]
  },
  {
   "cell_type": "code",
   "execution_count": 137,
   "metadata": {},
   "outputs": [
    {
     "name": "stdout",
     "output_type": "stream",
     "text": [
      "{'Tom': 100, 'Jane': 95, 'Amy': 73, 'Nick': 81, 'Robin': 50}\n"
     ]
    }
   ],
   "source": [
    "scores['Robin'] = 50\n",
    "print(scores)"
   ]
  },
  {
   "cell_type": "markdown",
   "metadata": {},
   "source": [
    "* 기존의 원소 제거"
   ]
  },
  {
   "cell_type": "code",
   "execution_count": 138,
   "metadata": {},
   "outputs": [
    {
     "name": "stdout",
     "output_type": "stream",
     "text": [
      "{'Tom': 100, 'Jane': 95, 'Amy': 73, 'Robin': 50}\n"
     ]
    }
   ],
   "source": [
    "del scores['Nick']\n",
    "print(scores)"
   ]
  },
  {
   "cell_type": "markdown",
   "metadata": {},
   "source": [
    "### 유용한 method들"
   ]
  },
  {
   "cell_type": "code",
   "execution_count": 139,
   "metadata": {},
   "outputs": [
    {
     "data": {
      "text/plain": [
       "dict_keys(['Tom', 'Jane', 'Amy', 'Robin'])"
      ]
     },
     "execution_count": 139,
     "metadata": {},
     "output_type": "execute_result"
    }
   ],
   "source": [
    "scores.keys()"
   ]
  },
  {
   "cell_type": "code",
   "execution_count": 140,
   "metadata": {},
   "outputs": [
    {
     "data": {
      "text/plain": [
       "dict_values([100, 95, 73, 50])"
      ]
     },
     "execution_count": 140,
     "metadata": {},
     "output_type": "execute_result"
    }
   ],
   "source": [
    "scores.values()"
   ]
  },
  {
   "cell_type": "code",
   "execution_count": 141,
   "metadata": {},
   "outputs": [
    {
     "data": {
      "text/plain": [
       "dict_items([('Tom', 100), ('Jane', 95), ('Amy', 73), ('Robin', 50)])"
      ]
     },
     "execution_count": 141,
     "metadata": {},
     "output_type": "execute_result"
    }
   ],
   "source": [
    "scores.items()"
   ]
  },
  {
   "cell_type": "markdown",
   "metadata": {},
   "source": [
    "### dictionanry를 이용한 `for` 구문"
   ]
  },
  {
   "cell_type": "markdown",
   "metadata": {},
   "source": [
    "dictionary를 직접 ```for```문에 이용하면 key를 바탕으로 ```for```문이 실행된다."
   ]
  },
  {
   "cell_type": "code",
   "execution_count": 142,
   "metadata": {},
   "outputs": [
    {
     "name": "stdout",
     "output_type": "stream",
     "text": [
      "Tom 100\n",
      "Jane 95\n",
      "Amy 73\n",
      "Robin 50\n"
     ]
    }
   ],
   "source": [
    "for key in scores:\n",
    "    print(key, scores[key])"
   ]
  },
  {
   "cell_type": "markdown",
   "metadata": {},
   "source": [
    "비슷한 방법으로는 ```.keys()``` method를 이용할 수 있으나, 위의 방법이 더 선호되는 경향이 있음"
   ]
  },
  {
   "cell_type": "code",
   "execution_count": 143,
   "metadata": {},
   "outputs": [
    {
     "name": "stdout",
     "output_type": "stream",
     "text": [
      "Tom 100\n",
      "Jane 95\n",
      "Amy 73\n",
      "Robin 50\n"
     ]
    }
   ],
   "source": [
    "for key in scores.keys():\n",
    "    print(key, scores[key])"
   ]
  },
  {
   "cell_type": "markdown",
   "metadata": {},
   "source": [
    "key와 value를 모두 필요로 할 때는 ```.items()```를 이용한다. 따라서 위의 코드들은 아래처럼 이용하는 것이 효율적이다.\n",
    "  * 가장 활용도가 높고 효율이 좋음\n",
    "  * list에서 ```enumerate()```과 비슷한 역할"
   ]
  },
  {
   "cell_type": "code",
   "execution_count": 144,
   "metadata": {},
   "outputs": [
    {
     "name": "stdout",
     "output_type": "stream",
     "text": [
      "Tom 100\n",
      "Jane 95\n",
      "Amy 73\n",
      "Robin 50\n"
     ]
    }
   ],
   "source": [
    "for k, v in scores.items():\n",
    "    print(k, v)"
   ]
  },
  {
   "cell_type": "code",
   "execution_count": 145,
   "metadata": {},
   "outputs": [
    {
     "name": "stdout",
     "output_type": "stream",
     "text": [
      "gallahad the pure\n",
      "robin the brave\n"
     ]
    }
   ],
   "source": [
    "knights = {'gallahad': 'the pure', 'robin': 'the brave'}\n",
    "for k, v in knights.items():\n",
    "    print(k, v)"
   ]
  },
  {
   "cell_type": "markdown",
   "metadata": {},
   "source": [
    "만약 value만 필요하다면 key 부분은 ```_```로 받을 수 있다."
   ]
  },
  {
   "cell_type": "code",
   "execution_count": 146,
   "metadata": {},
   "outputs": [
    {
     "name": "stdout",
     "output_type": "stream",
     "text": [
      "318\n"
     ]
    }
   ],
   "source": [
    "# 점수 총합을 계산\n",
    "sum_score = 0\n",
    "for _, v in scores.items():\n",
    "    sum_score += v\n",
    "print(sum_score)"
   ]
  },
  {
   "cell_type": "markdown",
   "metadata": {},
   "source": [
    "물론 ```.values()```를 이용할 수도 있음"
   ]
  },
  {
   "cell_type": "code",
   "execution_count": 147,
   "metadata": {},
   "outputs": [
    {
     "name": "stdout",
     "output_type": "stream",
     "text": [
      "318\n"
     ]
    }
   ],
   "source": [
    "sum_score = 0\n",
    "for v in scores.values():\n",
    "    sum_score += v\n",
    "print(sum_score)"
   ]
  },
  {
   "cell_type": "markdown",
   "metadata": {},
   "source": [
    "### 두 개의 list로부터 dictionary 만들기"
   ]
  },
  {
   "cell_type": "code",
   "execution_count": 148,
   "metadata": {},
   "outputs": [
    {
     "data": {
      "text/plain": [
       "{'Anne': 100, 'Jim': 76, 'Susan': 58, 'Kim': 93}"
      ]
     },
     "execution_count": 148,
     "metadata": {},
     "output_type": "execute_result"
    }
   ],
   "source": [
    "students = [\"Anne\", \"Jim\", \"Susan\", \"Kim\"]\n",
    "scores = [100, 76, 58, 93]\n",
    "\n",
    "result = dict(zip(students, scores))\n",
    "result"
   ]
  },
  {
   "cell_type": "markdown",
   "metadata": {},
   "source": [
    "### 구조화된 데이터를 dictionary로 표현"
   ]
  },
  {
   "cell_type": "code",
   "execution_count": 149,
   "metadata": {},
   "outputs": [],
   "source": [
    "tweet = {\n",
    "    \"user\" : \"joelgrus\",\n",
    "    \"text\" : \"Data Science is Awesome\",\n",
    "    \"retweet_cout\" : 100,\n",
    "    \"hashtags\" : [\"#data\", \"#science\"]\n",
    "}\n",
    "\n",
    "tweet_keys = tweet.keys()       # sequence of keys\n",
    "tweet_values = tweet.values()   # sequence of values\n",
    "tweet_items = tweet.items()     # sequence of (key, values)"
   ]
  },
  {
   "cell_type": "code",
   "execution_count": 150,
   "metadata": {},
   "outputs": [
    {
     "data": {
      "text/plain": [
       "dict_keys(['user', 'text', 'retweet_cout', 'hashtags'])"
      ]
     },
     "execution_count": 150,
     "metadata": {},
     "output_type": "execute_result"
    }
   ],
   "source": [
    "tweet_keys"
   ]
  },
  {
   "cell_type": "code",
   "execution_count": 151,
   "metadata": {},
   "outputs": [
    {
     "data": {
      "text/plain": [
       "dict_values(['joelgrus', 'Data Science is Awesome', 100, ['#data', '#science']])"
      ]
     },
     "execution_count": 151,
     "metadata": {},
     "output_type": "execute_result"
    }
   ],
   "source": [
    "tweet_values"
   ]
  },
  {
   "cell_type": "code",
   "execution_count": 152,
   "metadata": {},
   "outputs": [
    {
     "data": {
      "text/plain": [
       "dict_items([('user', 'joelgrus'), ('text', 'Data Science is Awesome'), ('retweet_cout', 100), ('hashtags', ['#data', '#science'])])"
      ]
     },
     "execution_count": 152,
     "metadata": {},
     "output_type": "execute_result"
    }
   ],
   "source": [
    "tweet_items"
   ]
  },
  {
   "cell_type": "code",
   "execution_count": 153,
   "metadata": {},
   "outputs": [
    {
     "data": {
      "text/plain": [
       "True"
      ]
     },
     "execution_count": 153,
     "metadata": {},
     "output_type": "execute_result"
    }
   ],
   "source": [
    "\"user\" in tweet_keys  # True but slow"
   ]
  },
  {
   "cell_type": "code",
   "execution_count": 154,
   "metadata": {},
   "outputs": [
    {
     "data": {
      "text/plain": [
       "True"
      ]
     },
     "execution_count": 154,
     "metadata": {},
     "output_type": "execute_result"
    }
   ],
   "source": [
    "\"user\" in tweet         # True faster"
   ]
  },
  {
   "cell_type": "code",
   "execution_count": 155,
   "metadata": {},
   "outputs": [
    {
     "data": {
      "text/plain": [
       "True"
      ]
     },
     "execution_count": 155,
     "metadata": {},
     "output_type": "execute_result"
    }
   ],
   "source": [
    "\"joelgrus\" in tweet_values  #True"
   ]
  },
  {
   "cell_type": "markdown",
   "metadata": {},
   "source": [
    "Dictionary의 내용을 변경하면, ```tweet_keys```, ```tweet_values```, ```tweet_items```의 내용이 변경되는 것을 볼 수 있다.\n",
    "\n",
    "```.keys()```, ```.values()```, ```.items()```의 method들은 view라는 것을 반환하며, 이들은 dictionary의 상태 변경을 반영한다."
   ]
  },
  {
   "cell_type": "code",
   "execution_count": 156,
   "metadata": {},
   "outputs": [],
   "source": [
    "tweet[\"date\"] = \"2015-01-02\""
   ]
  },
  {
   "cell_type": "code",
   "execution_count": 157,
   "metadata": {},
   "outputs": [
    {
     "data": {
      "text/plain": [
       "dict_keys(['user', 'text', 'retweet_cout', 'hashtags', 'date'])"
      ]
     },
     "execution_count": 157,
     "metadata": {},
     "output_type": "execute_result"
    }
   ],
   "source": [
    "tweet_keys"
   ]
  },
  {
   "cell_type": "code",
   "execution_count": 158,
   "metadata": {},
   "outputs": [
    {
     "data": {
      "text/plain": [
       "dict_values(['joelgrus', 'Data Science is Awesome', 100, ['#data', '#science'], '2015-01-02'])"
      ]
     },
     "execution_count": 158,
     "metadata": {},
     "output_type": "execute_result"
    }
   ],
   "source": [
    "tweet_values"
   ]
  },
  {
   "cell_type": "code",
   "execution_count": 159,
   "metadata": {},
   "outputs": [
    {
     "data": {
      "text/plain": [
       "dict_items([('user', 'joelgrus'), ('text', 'Data Science is Awesome'), ('retweet_cout', 100), ('hashtags', ['#data', '#science']), ('date', '2015-01-02')])"
      ]
     },
     "execution_count": 159,
     "metadata": {},
     "output_type": "execute_result"
    }
   ],
   "source": [
    "tweet_items"
   ]
  },
  {
   "cell_type": "markdown",
   "metadata": {},
   "source": [
    "loop를 돌면서 dictionary의 내용을 제거할 수는 없다.\n",
    "\n",
    "* runtime error가 발생한다."
   ]
  },
  {
   "cell_type": "code",
   "execution_count": 160,
   "metadata": {},
   "outputs": [
    {
     "ename": "RuntimeError",
     "evalue": "dictionary changed size during iteration",
     "output_type": "error",
     "traceback": [
      "\u001b[1;31m---------------------------------------------------------------------------\u001b[0m",
      "\u001b[1;31mRuntimeError\u001b[0m                              Traceback (most recent call last)",
      "Input \u001b[1;32mIn [160]\u001b[0m, in \u001b[0;36m<cell line: 1>\u001b[1;34m()\u001b[0m\n\u001b[1;32m----> 1\u001b[0m \u001b[38;5;28;01mfor\u001b[39;00m key \u001b[38;5;129;01min\u001b[39;00m tweet:\n\u001b[0;32m      2\u001b[0m     \u001b[38;5;28;01mif\u001b[39;00m key \u001b[38;5;241m==\u001b[39m \u001b[38;5;124m\"\u001b[39m\u001b[38;5;124mdate\u001b[39m\u001b[38;5;124m\"\u001b[39m: \u001b[38;5;28;01mdel\u001b[39;00m tweet[key]\n",
      "\u001b[1;31mRuntimeError\u001b[0m: dictionary changed size during iteration"
     ]
    }
   ],
   "source": [
    "for key in tweet:\n",
    "    if key == \"date\": del tweet[key]"
   ]
  },
  {
   "cell_type": "markdown",
   "metadata": {},
   "source": [
    "### Counter\n",
    "\n",
    "* sequence내의 원소들을 종류 별로 빈도를 계산하여 dictionary와 비슷한 형태로 표현함"
   ]
  },
  {
   "cell_type": "code",
   "execution_count": 161,
   "metadata": {},
   "outputs": [
    {
     "name": "stdout",
     "output_type": "stream",
     "text": [
      "Counter({0: 2, 1: 1, 2: 1})\n"
     ]
    }
   ],
   "source": [
    "from collections import Counter\n",
    "c = Counter([0, 1, 2, 0])\n",
    "print(c)"
   ]
  },
  {
   "cell_type": "markdown",
   "metadata": {},
   "source": [
    "  * ```c```의 결과는 다음과 같다 : ```Counter({0: 2, 1: 1, 2: 1})```\n",
    "  * 0이 2개, 1이 1개, 2가 1개 있음을 나타냄"
   ]
  },
  {
   "cell_type": "code",
   "execution_count": 162,
   "metadata": {
    "tags": []
   },
   "outputs": [
    {
     "name": "stdout",
     "output_type": "stream",
     "text": [
      "Counter({'a': 3, 'b': 2, 'c': 1})\n"
     ]
    }
   ],
   "source": [
    "c2 = Counter([\"a\", \"b\", \"a\", \"c\", \"b\", \"a\"])\n",
    "print(c2)"
   ]
  }
 ],
 "metadata": {
  "kernelspec": {
   "display_name": "Python 3 (ipykernel)",
   "language": "python",
   "name": "python3"
  },
  "language_info": {
   "codemirror_mode": {
    "name": "ipython",
    "version": 3
   },
   "file_extension": ".py",
   "mimetype": "text/x-python",
   "name": "python",
   "nbconvert_exporter": "python",
   "pygments_lexer": "ipython3",
   "version": "3.10.10"
  }
 },
 "nbformat": 4,
 "nbformat_minor": 4
}
