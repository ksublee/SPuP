{
 "cells": [
  {
   "cell_type": "code",
   "execution_count": 3,
   "metadata": {},
   "outputs": [
    {
     "name": "stdout",
     "output_type": "stream",
     "text": [
      "문자열을 입력하시오:abd\n",
      "마지막 글자가 모음으로 끝납니다.\n"
     ]
    }
   ],
   "source": [
    "x=str(input('문자열을 입력하시오:'))\n",
    "\n",
    "if x[-1]== 'a'or 'e'or 'i'or 'o'or 'u'or 'A'or 'E'or 'I'or 'O'or 'U':\n",
    "    print('마지막 글자가 모음으로 끝납니다.')\n",
    "else:\n",
    "    print('마지막 글자가 자음으로 끝납니다.')"
   ]
  },
  {
   "cell_type": "code",
   "execution_count": null,
   "metadata": {},
   "outputs": [],
   "source": []
  }
 ],
 "metadata": {
  "kernelspec": {
   "display_name": "Python 3",
   "language": "python",
   "name": "python3"
  },
  "language_info": {
   "codemirror_mode": {
    "name": "ipython",
    "version": 3
   },
   "file_extension": ".py",
   "mimetype": "text/x-python",
   "name": "python",
   "nbconvert_exporter": "python",
   "pygments_lexer": "ipython3",
   "version": "3.7.7"
  }
 },
 "nbformat": 4,
 "nbformat_minor": 4
}
