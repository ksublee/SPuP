{
 "cells": [
  {
   "cell_type": "markdown",
   "metadata": {},
   "source": [
    "# 10. Python에서의 파일 입출력\n",
    "----"
   ]
  },
  {
   "cell_type": "markdown",
   "metadata": {},
   "source": [
    "* 프로그램 도중에 다른 파일을 불러들이거나, 다른 파일로 결과를 기록하는 것은 흔한 일이다.  \n",
    "\n",
    "* Python에서도 이를 위한 간편한 방법들을 제공한다.\n",
    "   * text 파일과 그 외의 파일들을 모두 불러올 수 있다.\n",
    "   \n",
    "* 그 외의 여러가지 옵션을 통해, 파일을 읽어 들이는 방식 등을 조정할 수 있다."
   ]
  },
  {
   "cell_type": "markdown",
   "metadata": {},
   "source": [
    "## 파일 열기\n",
    "\n",
    "* Python의 함수인 ```open```을 이용하여 파일을 열 수 있다.  \n",
    "https://docs.python.org/3/library/functions.html#open\n",
    "* 다음의 간단한 예제를 체크해 보자.\n",
    "  * 이 예제의 ex1.csv 파일은 간단한 텍스트 파일로 다음의 내용을 가지고 있다.\n",
    "  \n",
    "a,b,c,d,message  \n",
    "1,2,3,4,hello  \n",
    "5,6,7,8,world  \n",
    "9,10,11,12,foo  "
   ]
  },
  {
   "cell_type": "code",
   "execution_count": 1,
   "metadata": {},
   "outputs": [],
   "source": [
    "a_file = open(file = 'ex1.csv', mode = 'r')"
   ]
  },
  {
   "cell_type": "markdown",
   "metadata": {},
   "source": [
    "여기서 ```a_file```은 file object로서 사용자가 파일에 접근 및 조작할 수 있게 한다. \n",
    "\n",
    "```mode```는 어떤 목적으로 파일을 여는지 정하는 인자이다.\n",
    "\n",
    "* ```r```: 읽기 전용\n",
    "* ```r+```: 읽기와 쓰기\n",
    "* ```w```: 쓰기 전용\n",
    "* ```w+```: 쓰기 및 읽기\n",
    "* ```a```: append\n",
    "* ```a+```: append 및 읽기"
   ]
  },
  {
   "cell_type": "markdown",
   "metadata": {},
   "source": [
    "읽은 파일이 텍스트 파일인 경우 ```.readline()``` method를 통해 한 줄씩 차례로 읽을 수 있다."
   ]
  },
  {
   "cell_type": "code",
   "execution_count": 2,
   "metadata": {},
   "outputs": [
    {
     "data": {
      "text/plain": [
       "'a,b,c,d,message\\n'"
      ]
     },
     "execution_count": 2,
     "metadata": {},
     "output_type": "execute_result"
    }
   ],
   "source": [
    "a_file.readline()"
   ]
  },
  {
   "cell_type": "code",
   "execution_count": 3,
   "metadata": {},
   "outputs": [
    {
     "data": {
      "text/plain": [
       "'1,2,3,4,hello\\n'"
      ]
     },
     "execution_count": 3,
     "metadata": {},
     "output_type": "execute_result"
    }
   ],
   "source": [
    "a_file.readline()"
   ]
  },
  {
   "cell_type": "code",
   "execution_count": 4,
   "metadata": {},
   "outputs": [
    {
     "data": {
      "text/plain": [
       "'5,6,7,8,world\\n'"
      ]
     },
     "execution_count": 4,
     "metadata": {},
     "output_type": "execute_result"
    }
   ],
   "source": [
    "a_file.readline()"
   ]
  },
  {
   "cell_type": "code",
   "execution_count": 5,
   "metadata": {},
   "outputs": [
    {
     "data": {
      "text/plain": [
       "'9,10,11,12,foo'"
      ]
     },
     "execution_count": 5,
     "metadata": {},
     "output_type": "execute_result"
    }
   ],
   "source": [
    "a_file.readline()"
   ]
  },
  {
   "cell_type": "code",
   "execution_count": 6,
   "metadata": {},
   "outputs": [
    {
     "data": {
      "text/plain": [
       "''"
      ]
     },
     "execution_count": 6,
     "metadata": {},
     "output_type": "execute_result"
    }
   ],
   "source": [
    "# 마지막 라인까지 모두 읽었음\n",
    "a_file.readline()"
   ]
  },
  {
   "cell_type": "markdown",
   "metadata": {},
   "source": [
    "작업을 마친 후에는 ```.close()``` method를 이용해 종료한다."
   ]
  },
  {
   "cell_type": "code",
   "execution_count": 7,
   "metadata": {},
   "outputs": [],
   "source": [
    "a_file.close()"
   ]
  },
  {
   "cell_type": "markdown",
   "metadata": {},
   "source": [
    "위의 파일 라인별 read 과정은 반복 작업이라는 점에 착안하여 ```for```를 이용할 수 있다."
   ]
  },
  {
   "cell_type": "code",
   "execution_count": 8,
   "metadata": {},
   "outputs": [
    {
     "name": "stdout",
     "output_type": "stream",
     "text": [
      "a,b,c,d,message\n",
      "\n",
      "1,2,3,4,hello\n",
      "\n",
      "5,6,7,8,world\n",
      "\n",
      "9,10,11,12,foo\n"
     ]
    }
   ],
   "source": [
    "a_file = open(file = 'ex1.csv', mode = 'r')\n",
    "for line in a_file.readlines():\n",
    "    print(line)\n",
    "a_file.close()"
   ]
  },
  {
   "cell_type": "markdown",
   "metadata": {},
   "source": [
    "```a_file.readlines()```는 list이기 때문에 파일의 크기가 크면 메모리 문제가 생길 수 있다."
   ]
  },
  {
   "cell_type": "code",
   "execution_count": 9,
   "metadata": {},
   "outputs": [
    {
     "data": {
      "text/plain": [
       "['a,b,c,d,message\\n', '1,2,3,4,hello\\n', '5,6,7,8,world\\n', '9,10,11,12,foo']"
      ]
     },
     "execution_count": 9,
     "metadata": {},
     "output_type": "execute_result"
    }
   ],
   "source": [
    "a_file = open(file = 'ex1.csv')\n",
    "a_file.readlines()"
   ]
  },
  {
   "cell_type": "code",
   "execution_count": 10,
   "metadata": {},
   "outputs": [],
   "source": [
    "a_file.close()"
   ]
  },
  {
   "cell_type": "markdown",
   "metadata": {},
   "source": [
    "따라서 일반적으로는 lazy loading인 다음의 방법을 사용한다."
   ]
  },
  {
   "cell_type": "code",
   "execution_count": 11,
   "metadata": {},
   "outputs": [
    {
     "name": "stdout",
     "output_type": "stream",
     "text": [
      "a,b,c,d,message\n",
      "\n",
      "1,2,3,4,hello\n",
      "\n",
      "5,6,7,8,world\n",
      "\n",
      "9,10,11,12,foo\n"
     ]
    }
   ],
   "source": [
    "a_file = open(file = 'ex1.csv')\n",
    "for line in a_file:\n",
    "    print(line)\n",
    "a_file.close()"
   ]
  },
  {
   "cell_type": "markdown",
   "metadata": {},
   "source": [
    "```.read()``` method를 이용해 모든 라인을 한 번에 읽을 수 있다."
   ]
  },
  {
   "cell_type": "code",
   "execution_count": 12,
   "metadata": {},
   "outputs": [
    {
     "name": "stdout",
     "output_type": "stream",
     "text": [
      "a,b,c,d,message\n",
      "1,2,3,4,hello\n",
      "5,6,7,8,world\n",
      "9,10,11,12,foo\n"
     ]
    }
   ],
   "source": [
    "a_file = open(file = 'ex1.csv', mode = 'r')\n",
    "print(a_file.read())"
   ]
  },
  {
   "cell_type": "code",
   "execution_count": 13,
   "metadata": {},
   "outputs": [],
   "source": [
    "# 작업 종료\n",
    "a_file.close()"
   ]
  },
  {
   "cell_type": "markdown",
   "metadata": {},
   "source": [
    "한편, 위의 file 경로에서는 상대 주소를 이용하였다. 즉, 현재 working directory에 존재하는 ex1.csv 파일을 불러온 것이다.  \n",
    "물론 절대 경로를 이용하여 파일을 불러올 수도 있다. 이때는 해당 파일의 정확한 경로를 모두 ```file``` 인자로 전달하여야 한다."
   ]
  },
  {
   "cell_type": "markdown",
   "metadata": {},
   "source": [
    "그림 파일 등 텍스트 파일이 아닌 경우도 불러올 수 있다."
   ]
  },
  {
   "cell_type": "code",
   "execution_count": 14,
   "metadata": {},
   "outputs": [],
   "source": [
    "bfin = open(file = \"yu_logo.png\", mode = 'rb')"
   ]
  },
  {
   "cell_type": "markdown",
   "metadata": {},
   "source": [
    "불러들인 ```bfin```를 여러 응용 방안에 활용할 수 있겠지만, 이 강의에서는 자세히 다루지는 않는다. \n",
    "\n",
    "다음과 같이 종료하여 마무리 하자."
   ]
  },
  {
   "cell_type": "code",
   "execution_count": 15,
   "metadata": {},
   "outputs": [],
   "source": [
    "bfin.close()"
   ]
  },
  {
   "cell_type": "markdown",
   "metadata": {},
   "source": [
    "그림을 jupyter notebook에 보여주기 위한 목적이라면 다른 라이브러리를 이용해야 한다.\n",
    "\n",
    "여러 방법이 있겠지만 ```matplotlib```를 이용해 본다."
   ]
  },
  {
   "cell_type": "code",
   "execution_count": 16,
   "metadata": {},
   "outputs": [
    {
     "data": {
      "text/plain": [
       "<matplotlib.image.AxesImage at 0x1c7cef60748>"
      ]
     },
     "execution_count": 16,
     "metadata": {},
     "output_type": "execute_result"
    },
    {
     "data": {
      "image/png": "[encoded data removed]",
      "text/plain": [
       "<Figure size 432x288 with 1 Axes>"
      ]
     },
     "metadata": {
      "needs_background": "light"
     },
     "output_type": "display_data"
    }
   ],
   "source": [
    "%matplotlib inline    \n",
    "# 해당 모듈 \n",
    "import matplotlib.image as mpimg \n",
    "import matplotlib.pyplot as plt \n",
    "  \n",
    "# 그림 읽어들이기\n",
    "img = mpimg.imread('yu_logo.png') \n",
    "  \n",
    "# 노트북에 출력하기\n",
    "plt.imshow(img) "
   ]
  },
  {
   "cell_type": "markdown",
   "metadata": {},
   "source": [
    "## 파일 작성\n",
    "\n",
    "* 파일에 텍스트를 작성할 때도 ```open``` 함수를 이용한다.\n",
    "* 단, 이 경우에는 ```mode``` 인자가 ```w```가 된다."
   ]
  },
  {
   "cell_type": "code",
   "execution_count": 17,
   "metadata": {},
   "outputs": [],
   "source": [
    "fout = open(\"my_test.txt\", \"w\")\n",
    "\n",
    "fout.write('''\n",
    "It was the best of times, it was the worst of times,\n",
    "it was the age of wisdom, it was the age of foolishness,\n",
    "it was the epoch of belief, it was the epoch of incredulity,\n",
    "it was the season of Light, it was the season of Darkness,\n",
    "it was the spring of hope, it was the winter of despair,\n",
    "we had everything before us, we had nothing before us,\n",
    "we were all going direct to Heaven, we were all going direct the other way -\n",
    "in short, the period was so far like the present period,\n",
    "that some of its noisiest authorities insisted on its being received,\n",
    "for good or for evil, in the superlative degree of comparison only.\n",
    "\n",
    "Tale of Two Cities\n",
    "by Charles Dickens\n",
    "''')\n",
    "\n",
    "fout.close()"
   ]
  },
  {
   "cell_type": "markdown",
   "metadata": {},
   "source": [
    "다시 읽어 파일이 잘 저장되었는지 확인해 보자."
   ]
  },
  {
   "cell_type": "code",
   "execution_count": 18,
   "metadata": {},
   "outputs": [
    {
     "name": "stdout",
     "output_type": "stream",
     "text": [
      "\n",
      "It was the best of times, it was the worst of times,\n",
      "it was the age of wisdom, it was the age of foolishness,\n",
      "it was the epoch of belief, it was the epoch of incredulity,\n",
      "it was the season of Light, it was the season of Darkness,\n",
      "it was the spring of hope, it was the winter of despair,\n",
      "we had everything before us, we had nothing before us,\n",
      "we were all going direct to Heaven, we were all going direct the other way -\n",
      "in short, the period was so far like the present period,\n",
      "that some of its noisiest authorities insisted on its being received,\n",
      "for good or for evil, in the superlative degree of comparison only.\n",
      "\n",
      "Tale of Two Cities\n",
      "by Charles Dickens\n",
      "\n"
     ]
    }
   ],
   "source": [
    "fin = open(\"my_test.txt\", \"r\")\n",
    "print(fin.read())\n",
    "fin.close()"
   ]
  },
  {
   "cell_type": "markdown",
   "metadata": {},
   "source": [
    "물론 jupyter notebook의 홈 화면에서 my_test.txt 파일이 생성된 것을 확인할 수 있다.\n",
    "\n",
    "클릭하여 내용을 확인해 볼 수 있다."
   ]
  },
  {
   "cell_type": "markdown",
   "metadata": {},
   "source": [
    "<img src=\"data:image/png;base64,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\" width=\"300\" alt=\"\" />"
   ]
  },
  {
   "cell_type": "markdown",
   "metadata": {},
   "source": [
    "## ```with```\n",
    "\n",
    "파일 사용을 마칠 때마다 ```close()```를 취하는 것이 번거롭다면 ```with```구문을 이용할 수 있다."
   ]
  },
  {
   "cell_type": "code",
   "execution_count": 19,
   "metadata": {},
   "outputs": [
    {
     "name": "stdout",
     "output_type": "stream",
     "text": [
      "\n",
      "It was the best of times, it was the worst of times,\n",
      "it was the age of wisdom, it was the age of foolishness,\n",
      "it was the epoch of belief, it was the epoch of incredulity,\n",
      "it was the season of Light, it was the season of Darkness,\n",
      "it was the spring of hope, it was the winter of despair,\n",
      "we had everything before us, we had nothing before us,\n",
      "we were all going direct to Heaven, we were all going direct the other way -\n",
      "in short, the period was so far like the present period,\n",
      "that some of its noisiest authorities insisted on its being received,\n",
      "for good or for evil, in the superlative degree of comparison only.\n",
      "\n",
      "Tale of Two Cities\n",
      "by Charles Dickens\n",
      "\n"
     ]
    }
   ],
   "source": [
    "with open(\"my_test.txt\") as fin:\n",
    "    print(fin.read())"
   ]
  },
  {
   "cell_type": "markdown",
   "metadata": {},
   "source": [
    "위 의 ```with``` 구문에서는 ```with```내의 블록 코드가 종료됨과 동시에, 파일을 자동으로 ```close``` 하여 준다.\n",
    "\n",
    "따라서 파일 입출력 시에는 ```with``` 구문을 적극적으로 활용하는 것이 편리하다."
   ]
  },
  {
   "cell_type": "markdown",
   "metadata": {},
   "source": [
    "### 예제 : txt 파일을 읽고, 각 라인의 앞에 라인 번호 매기기"
   ]
  },
  {
   "cell_type": "code",
   "execution_count": 20,
   "metadata": {},
   "outputs": [],
   "source": [
    "def add_nums(filename):\n",
    "    result = []\n",
    "    with open(filename) as fin:\n",
    "        for num, line in enumerate(fin):\n",
    "            result.append(str(num) + \". \" + line)\n",
    "    return result    "
   ]
  },
  {
   "cell_type": "code",
   "execution_count": 21,
   "metadata": {},
   "outputs": [
    {
     "data": {
      "text/plain": [
       "['0. \\n',\n",
       " '1. It was the best of times, it was the worst of times,\\n',\n",
       " '2. it was the age of wisdom, it was the age of foolishness,\\n',\n",
       " '3. it was the epoch of belief, it was the epoch of incredulity,\\n',\n",
       " '4. it was the season of Light, it was the season of Darkness,\\n',\n",
       " '5. it was the spring of hope, it was the winter of despair,\\n',\n",
       " '6. we had everything before us, we had nothing before us,\\n',\n",
       " '7. we were all going direct to Heaven, we were all going direct the other way -\\n',\n",
       " '8. in short, the period was so far like the present period,\\n',\n",
       " '9. that some of its noisiest authorities insisted on its being received,\\n',\n",
       " '10. for good or for evil, in the superlative degree of comparison only.\\n',\n",
       " '11. \\n',\n",
       " '12. Tale of Two Cities\\n',\n",
       " '13. by Charles Dickens\\n']"
      ]
     },
     "execution_count": 21,
     "metadata": {},
     "output_type": "execute_result"
    }
   ],
   "source": [
    "result = add_nums(\"my_test.txt\")\n",
    "result"
   ]
  },
  {
   "cell_type": "markdown",
   "metadata": {},
   "source": [
    "다른 파일에 행 번호가 붙은 내용을 저장해 보자."
   ]
  },
  {
   "cell_type": "code",
   "execution_count": 22,
   "metadata": {},
   "outputs": [],
   "source": [
    "with open(\"my_test2.txt\", \"w\") as fin:\n",
    "    for line in result:\n",
    "        fin.write(line)"
   ]
  },
  {
   "cell_type": "markdown",
   "metadata": {},
   "source": [
    "### 예제 : 등장한 단어의 개수 세기\n",
    "\n",
    "* ```.split()``` method를 이용하여, 각 단어를 공백 기준으로 나누어 list에 저장할 수 있다.\n",
    "* ```.strip(',.')```는 단어의 마지막에 등장하는 쉼표나 마침표를 제거한다.\n",
    "* 대소문자 구분없이 단어를 세려면 어떻게 해야 할까?"
   ]
  },
  {
   "cell_type": "code",
   "execution_count": 23,
   "metadata": {},
   "outputs": [
    {
     "name": "stdout",
     "output_type": "stream",
     "text": [
      "Counter({'the': 14, 'of': 13, 'was': 11, 'it': 9, 'we': 4, 'times': 2, 'age': 2, 'epoch': 2, 'season': 2, 'had': 2, 'before': 2, 'us': 2, 'were': 2, 'all': 2, 'going': 2, 'direct': 2, 'in': 2, 'period': 2, 'its': 2, 'for': 2, 'It': 1, 'best': 1, 'worst': 1, 'wisdom': 1, 'foolishness': 1, 'belief': 1, 'incredulity': 1, 'Light': 1, 'Darkness': 1, 'spring': 1, 'hope': 1, 'winter': 1, 'despair': 1, 'everything': 1, 'nothing': 1, 'to': 1, 'Heaven': 1, 'other': 1, 'way': 1, '-': 1, 'short': 1, 'so': 1, 'far': 1, 'like': 1, 'present': 1, 'that': 1, 'some': 1, 'noisiest': 1, 'authorities': 1, 'insisted': 1, 'on': 1, 'being': 1, 'received': 1, 'good': 1, 'or': 1, 'evil': 1, 'superlative': 1, 'degree': 1, 'comparison': 1, 'only': 1, 'Tale': 1, 'Two': 1, 'Cities': 1, 'by': 1, 'Charles': 1, 'Dickens': 1})\n"
     ]
    }
   ],
   "source": [
    "with open(\"my_test.txt\") as fin:\n",
    "    result = []\n",
    "    for line in fin:\n",
    "        words = line.split()\n",
    "        for word in words:\n",
    "            result.append(word.strip('.,'))\n",
    "\n",
    "from collections import Counter\n",
    "c = Counter(result)\n",
    "print(c)"
   ]
  },
  {
   "cell_type": "markdown",
   "metadata": {},
   "source": [
    "## `pandas`와 `DataFrame`"
   ]
  },
  {
   "cell_type": "markdown",
   "metadata": {},
   "source": [
    "* ```pandas```는 ```Numpy```을 기초로 하여 만들어진 python library로 table 모양의 데이터를 불러오고 처리하는 작업에 탁월한 성능을 보인다.\n",
    "* Table 모양 (직사각형의 표 형태)의 데이터 구조를 ```DataFrame```이라고 부른다.\n",
    "* 이 단원에서는 ```pandas```를 이용하여 표 형태의 데이터를 불러오는 방법에 대해 알아본다.\n",
    "  * 앞에서 이용한 ex1.csv 파일 또한 표 형태의 데이터 중 하나라고 볼 수 있다.\n",
    "* 표 형태의 데이터 처리에 관한 여러 방법은 통계데이터베이스 과목에서 배운다."
   ]
  },
  {
   "cell_type": "markdown",
   "metadata": {},
   "source": [
    "| 함수| 설명|\n",
    "|:-----------|:----------------------------------------------------------------------------------------------------|\n",
    "| ```read_csv```| 콤마(,)로 구분된 파일을 불러와 DataFrame 객체로 변환|\n",
    "| ```read_table```| 여러가지 형태의 구분자로 구분된 파일을 불러와 DataFrame 객체로 변환, 기본은 탭('\\t') 구분자를 이용 |\n",
    "| ```read_fwf```| 고정 길이 컬럼 포맷 데이터를 불러들임|"
   ]
  },
  {
   "cell_type": "code",
   "execution_count": 24,
   "metadata": {},
   "outputs": [],
   "source": [
    "import pandas as pd"
   ]
  },
  {
   "cell_type": "code",
   "execution_count": 25,
   "metadata": {},
   "outputs": [
    {
     "data": {
      "text/html": [
       "<div>\n",
       "<style scoped>\n",
       "    .dataframe tbody tr th:only-of-type {\n",
       "        vertical-align: middle;\n",
       "    }\n",
       "\n",
       "    .dataframe tbody tr th {\n",
       "        vertical-align: top;\n",
       "    }\n",
       "\n",
       "    .dataframe thead th {\n",
       "        text-align: right;\n",
       "    }\n",
       "</style>\n",
       "<table border=\"1\" class=\"dataframe\">\n",
       "  <thead>\n",
       "    <tr style=\"text-align: right;\">\n",
       "      <th></th>\n",
       "      <th>a</th>\n",
       "      <th>b</th>\n",
       "      <th>c</th>\n",
       "      <th>d</th>\n",
       "      <th>message</th>\n",
       "    </tr>\n",
       "  </thead>\n",
       "  <tbody>\n",
       "    <tr>\n",
       "      <th>0</th>\n",
       "      <td>1</td>\n",
       "      <td>2</td>\n",
       "      <td>3</td>\n",
       "      <td>4</td>\n",
       "      <td>hello</td>\n",
       "    </tr>\n",
       "    <tr>\n",
       "      <th>1</th>\n",
       "      <td>5</td>\n",
       "      <td>6</td>\n",
       "      <td>7</td>\n",
       "      <td>8</td>\n",
       "      <td>world</td>\n",
       "    </tr>\n",
       "    <tr>\n",
       "      <th>2</th>\n",
       "      <td>9</td>\n",
       "      <td>10</td>\n",
       "      <td>11</td>\n",
       "      <td>12</td>\n",
       "      <td>foo</td>\n",
       "    </tr>\n",
       "  </tbody>\n",
       "</table>\n",
       "</div>"
      ],
      "text/plain": [
       "   a   b   c   d message\n",
       "0  1   2   3   4   hello\n",
       "1  5   6   7   8   world\n",
       "2  9  10  11  12     foo"
      ]
     },
     "execution_count": 25,
     "metadata": {},
     "output_type": "execute_result"
    }
   ],
   "source": [
    "df = pd.read_csv(\"ex1.csv\")\n",
    "df"
   ]
  },
  {
   "cell_type": "markdown",
   "metadata": {},
   "source": [
    "만약 원본 파일에 컬럼 이름이 없을 경우 ```header=None``` 옵션을 추가한다."
   ]
  },
  {
   "cell_type": "code",
   "execution_count": 26,
   "metadata": {},
   "outputs": [
    {
     "data": {
      "text/html": [
       "<div>\n",
       "<style scoped>\n",
       "    .dataframe tbody tr th:only-of-type {\n",
       "        vertical-align: middle;\n",
       "    }\n",
       "\n",
       "    .dataframe tbody tr th {\n",
       "        vertical-align: top;\n",
       "    }\n",
       "\n",
       "    .dataframe thead th {\n",
       "        text-align: right;\n",
       "    }\n",
       "</style>\n",
       "<table border=\"1\" class=\"dataframe\">\n",
       "  <thead>\n",
       "    <tr style=\"text-align: right;\">\n",
       "      <th></th>\n",
       "      <th>0</th>\n",
       "      <th>1</th>\n",
       "      <th>2</th>\n",
       "      <th>3</th>\n",
       "      <th>4</th>\n",
       "    </tr>\n",
       "  </thead>\n",
       "  <tbody>\n",
       "    <tr>\n",
       "      <th>0</th>\n",
       "      <td>1</td>\n",
       "      <td>2</td>\n",
       "      <td>3</td>\n",
       "      <td>4</td>\n",
       "      <td>hello</td>\n",
       "    </tr>\n",
       "    <tr>\n",
       "      <th>1</th>\n",
       "      <td>5</td>\n",
       "      <td>6</td>\n",
       "      <td>7</td>\n",
       "      <td>8</td>\n",
       "      <td>world</td>\n",
       "    </tr>\n",
       "    <tr>\n",
       "      <th>2</th>\n",
       "      <td>9</td>\n",
       "      <td>10</td>\n",
       "      <td>11</td>\n",
       "      <td>12</td>\n",
       "      <td>foo</td>\n",
       "    </tr>\n",
       "  </tbody>\n",
       "</table>\n",
       "</div>"
      ],
      "text/plain": [
       "   0   1   2   3      4\n",
       "0  1   2   3   4  hello\n",
       "1  5   6   7   8  world\n",
       "2  9  10  11  12    foo"
      ]
     },
     "execution_count": 26,
     "metadata": {},
     "output_type": "execute_result"
    }
   ],
   "source": [
    "pd.read_csv(\"ex2.csv\", header=None)"
   ]
  },
  {
   "cell_type": "markdown",
   "metadata": {},
   "source": [
    "표 형태의 데이터는 ```DataFrame``` 객체로 만들어 csv 등의 파일로 쉽게 저장할 수 있다.\n",
    "* 다음은 ```dictionary```로부터 ```DataFrame```을 만들고 최종적으로 파일로 저장하는 과정이다.\n",
    "* ```scores```의 key는 컬럼 이름을 나타내고, value는 각 컬럼의 값을 나타낸다."
   ]
  },
  {
   "cell_type": "code",
   "execution_count": 27,
   "metadata": {},
   "outputs": [
    {
     "data": {
      "text/plain": [
       "{'name': ['Tom', 'Lia', 'Anne', 'Bill'], 'score': [50, 60, 40, 70]}"
      ]
     },
     "execution_count": 27,
     "metadata": {},
     "output_type": "execute_result"
    }
   ],
   "source": [
    "scores = {'name': [\"Tom\", \"Lia\", \"Anne\", \"Bill\"], \"score\": [50, 60, 40, 70]}\n",
    "scores"
   ]
  },
  {
   "cell_type": "code",
   "execution_count": 28,
   "metadata": {},
   "outputs": [
    {
     "data": {
      "text/html": [
       "<div>\n",
       "<style scoped>\n",
       "    .dataframe tbody tr th:only-of-type {\n",
       "        vertical-align: middle;\n",
       "    }\n",
       "\n",
       "    .dataframe tbody tr th {\n",
       "        vertical-align: top;\n",
       "    }\n",
       "\n",
       "    .dataframe thead th {\n",
       "        text-align: right;\n",
       "    }\n",
       "</style>\n",
       "<table border=\"1\" class=\"dataframe\">\n",
       "  <thead>\n",
       "    <tr style=\"text-align: right;\">\n",
       "      <th></th>\n",
       "      <th>name</th>\n",
       "      <th>score</th>\n",
       "    </tr>\n",
       "  </thead>\n",
       "  <tbody>\n",
       "    <tr>\n",
       "      <th>0</th>\n",
       "      <td>Tom</td>\n",
       "      <td>50</td>\n",
       "    </tr>\n",
       "    <tr>\n",
       "      <th>1</th>\n",
       "      <td>Lia</td>\n",
       "      <td>60</td>\n",
       "    </tr>\n",
       "    <tr>\n",
       "      <th>2</th>\n",
       "      <td>Anne</td>\n",
       "      <td>40</td>\n",
       "    </tr>\n",
       "    <tr>\n",
       "      <th>3</th>\n",
       "      <td>Bill</td>\n",
       "      <td>70</td>\n",
       "    </tr>\n",
       "  </tbody>\n",
       "</table>\n",
       "</div>"
      ],
      "text/plain": [
       "   name  score\n",
       "0   Tom     50\n",
       "1   Lia     60\n",
       "2  Anne     40\n",
       "3  Bill     70"
      ]
     },
     "execution_count": 28,
     "metadata": {},
     "output_type": "execute_result"
    }
   ],
   "source": [
    "# DataFrame으로 변환하여 보기 좋게 만듦\n",
    "df_scores = pd.DataFrame(data=scores)\n",
    "df_scores"
   ]
  },
  {
   "cell_type": "markdown",
   "metadata": {},
   "source": [
    "csv 파일로 저장한 후, Jupyter 파일 탐색기 화면에서 결과를 확인해 보자.\n",
    "* ```index=False``` 옵션을 사용하면 행 index는 저장하지 않는다."
   ]
  },
  {
   "cell_type": "code",
   "execution_count": 29,
   "metadata": {},
   "outputs": [],
   "source": [
    "df_scores.to_csv(\"scores.csv\", index=False)"
   ]
  },
  {
   "cell_type": "markdown",
   "metadata": {},
   "source": [
    "## JSON data"
   ]
  },
  {
   "cell_type": "markdown",
   "metadata": {},
   "source": [
    "JSON 파일은 HTTP 상에서 데이터를 전송할 때 많이 사용되는 파일 포맷으로, python dictionary와 유사하게 생겼다."
   ]
  },
  {
   "cell_type": "code",
   "execution_count": 30,
   "metadata": {},
   "outputs": [],
   "source": [
    "import json\n",
    "with open('example.json') as json_file:\n",
    "    customer_data = json.load(json_file)"
   ]
  },
  {
   "cell_type": "code",
   "execution_count": 31,
   "metadata": {},
   "outputs": [
    {
     "data": {
      "text/plain": [
       "{'name': 'Wes',\n",
       " 'places_lived': ['United States', 'Spain', 'Germany'],\n",
       " 'pet': None,\n",
       " 'siblings': [{'name': 'Scott', 'age': 30, 'pets': ['Zeus', 'Zuko']},\n",
       "  {'name': 'Katie', 'age': 38, 'pets': ['Sixes', 'Stache', 'Cisco']}]}"
      ]
     },
     "execution_count": 31,
     "metadata": {},
     "output_type": "execute_result"
    }
   ],
   "source": [
    "customer_data"
   ]
  },
  {
   "cell_type": "code",
   "execution_count": 32,
   "metadata": {},
   "outputs": [
    {
     "data": {
      "text/plain": [
       "dict"
      ]
     },
     "execution_count": 32,
     "metadata": {},
     "output_type": "execute_result"
    }
   ],
   "source": [
    "type(customer_data)"
   ]
  }
 ],
 "metadata": {
  "kernelspec": {
   "display_name": "Python 3 (ipykernel)",
   "language": "python",
   "name": "python3"
  },
  "language_info": {
   "codemirror_mode": {
    "name": "ipython",
    "version": 3
   },
   "file_extension": ".py",
   "mimetype": "text/x-python",
   "name": "python",
   "nbconvert_exporter": "python",
   "pygments_lexer": "ipython3",
   "version": "3.9.13"
  }
 },
 "nbformat": 4,
 "nbformat_minor": 4
}
