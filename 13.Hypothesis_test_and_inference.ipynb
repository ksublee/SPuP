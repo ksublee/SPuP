{
 "cells": [
  {
   "cell_type": "markdown",
   "metadata": {},
   "source": [
    "# 13. Hyperthesis test and inference"
   ]
  },
  {
   "cell_type": "markdown",
   "metadata": {},
   "source": [
    "## 통계적 가설 검정\n",
    "\n",
    "이 단원에서는 통계적 가설 검정을 위한 함수들을 직접 작성하고, 활용하여 본다.\n",
    "\n",
    "통계적 가설의 예\n",
    " * 이 동전은 공평하다.\n",
    " * 데이터 과학자들은 Python을 R보다 선호한다.\n",
    " * 새로운 치료약은 기존의 치료약 보다 좋은 성능을 지닌다.\n",
    "\n",
    "귀무 가설 $H_0$\n",
    " * 기각할지 말지 결정하는 가설\n",
    " \n",
    "대립 가설 $H_1$\n",
    " * 귀무 가설과 비교되는 위치에 있는 가설"
   ]
  },
  {
   "cell_type": "markdown",
   "metadata": {},
   "source": [
    "### 동전 던지기\n",
    "\n",
    "동전이 공평한지 검사하는 간단한 통계 검정을 생각하자.\n",
    "\n",
    "* $H_0$ : 앞면이 나올 확률 $p=0.5$\n",
    "* $H_1 : p \\neq 0.5$\n",
    "* $n$번 동전을 던졌을 때 앞면이 나온 횟수를 $X$라 하면\n",
    "$$𝑋 \\sim Binomial(n,p) $$\n"
   ]
  },
  {
   "cell_type": "code",
   "execution_count": 1,
   "metadata": {},
   "outputs": [],
   "source": [
    "# 정규분포의 근사\n",
    "def normal_approximation_to_binomial(n, p):\n",
    "    mu = p * n\n",
    "    sigma = math.sqrt(p * (1-p) * n)\n",
    "    return mu, sigma"
   ]
  },
  {
   "cell_type": "markdown",
   "metadata": {},
   "source": [
    "다음은 이전에 작성했던 정규분포의 cdf와 cdf의 역함수를 구현한 함수들이다."
   ]
  },
  {
   "cell_type": "code",
   "execution_count": 2,
   "metadata": {},
   "outputs": [],
   "source": [
    "# 정규분포의 cdf\n",
    "\n",
    "import math\n",
    "def normal_cdf(x, mu=0, sigma=1):\n",
    "    return (1+math.erf((x-mu)/math.sqrt(2)/sigma))/2\n"
   ]
  },
  {
   "cell_type": "code",
   "execution_count": 3,
   "metadata": {},
   "outputs": [],
   "source": [
    "# 정규분포의 역함수\n",
    "\n",
    "def inverse_normal_cdf(p, mu=0, sigma=1, tolerance=0.000001):\n",
    "    # 표준 정규 분포가 아닌 경우 X = mu + sigma * Z를 이용\n",
    "    if mu != 0 or sigma != 1:\n",
    "        return mu + sigma * inverse_normal_cdf(p, tolerance=tolerance)\n",
    "\n",
    "    left, right = -10.0, 10.0\n",
    "    while normal_cdf(right) - normal_cdf(left) > tolerance:\n",
    "        mid = (right + left) / 2          # 중앙값\n",
    "        if normal_cdf(mid) < p:           # 중앙값이 아직 작으면 윗쪽을 탐색\n",
    "            left = mid\n",
    "        elif normal_cdf(mid) > p:         # 중앙값이 아직 크면, 아랫쪽을 탐색\n",
    "            right = mid\n",
    "        else:\n",
    "            break\n",
    "    return (right + left) / 2"
   ]
  },
  {
   "cell_type": "markdown",
   "metadata": {},
   "source": [
    "물론 위 함수들은 연습의 목적으로 직접 만들어 보았지만, 이 과목 외에서 실제 정규분포 관련함수를 다루어야 될 필요가 있다면, Python 모듈에 이미 존재하는 함수를 이용하는 것이 좋다.\n",
    " * ```from scipy.stats import norm```를 이용한다.\n",
    " * ```norm.cdf(x, loc=0, scale=1)```  : 누적분포함수\n",
    " * ```norm.pdf(x, loc=0, scale=1)```  : 확률밀도함수\n",
    " * ```norm.ppf(q, loc=0, scale=1)```  : 누적분포함수의 역함수\n",
    " \n",
    "```scipy.stats.norm```에서 제공하는 함수와 직접 만든 함수를 비교해 보자."
   ]
  },
  {
   "cell_type": "code",
   "execution_count": 4,
   "metadata": {},
   "outputs": [
    {
     "data": {
      "text/plain": [
       "0.9750021048517795"
      ]
     },
     "execution_count": 4,
     "metadata": {},
     "output_type": "execute_result"
    }
   ],
   "source": [
    "from scipy.stats import norm\n",
    "norm.cdf(1.96)"
   ]
  },
  {
   "cell_type": "code",
   "execution_count": 5,
   "metadata": {},
   "outputs": [
    {
     "data": {
      "text/plain": [
       "0.9750021048517796"
      ]
     },
     "execution_count": 5,
     "metadata": {},
     "output_type": "execute_result"
    }
   ],
   "source": [
    "normal_cdf(1.96)"
   ]
  },
  {
   "cell_type": "code",
   "execution_count": 6,
   "metadata": {},
   "outputs": [
    {
     "data": {
      "text/plain": [
       "1.959963984540054"
      ]
     },
     "execution_count": 6,
     "metadata": {},
     "output_type": "execute_result"
    }
   ],
   "source": [
    "norm.ppf(0.975)"
   ]
  },
  {
   "cell_type": "code",
   "execution_count": 7,
   "metadata": {},
   "outputs": [
    {
     "data": {
      "text/plain": [
       "1.9599676132202148"
      ]
     },
     "execution_count": 7,
     "metadata": {},
     "output_type": "execute_result"
    }
   ],
   "source": [
    "inverse_normal_cdf(0.975)"
   ]
  },
  {
   "cell_type": "markdown",
   "metadata": {},
   "source": [
    "### 다양한 정규분포 관련 함수를 직접 만들어 보기\n",
    "\n",
    "주어진 값보다 작을 확률"
   ]
  },
  {
   "cell_type": "code",
   "execution_count": 8,
   "metadata": {},
   "outputs": [],
   "source": [
    "normal_probability_below = normal_cdf"
   ]
  },
  {
   "cell_type": "markdown",
   "metadata": {},
   "source": [
    "주어진 값보다 높을 확률"
   ]
  },
  {
   "cell_type": "code",
   "execution_count": 9,
   "metadata": {},
   "outputs": [],
   "source": [
    "def normal_probability_above(lo, mu=0, sigma=1):\n",
    "    return 1-normal_cdf(lo, mu, sigma)"
   ]
  },
  {
   "cell_type": "markdown",
   "metadata": {},
   "source": [
    "주어진 두 값 사이에 위치할 확률"
   ]
  },
  {
   "cell_type": "code",
   "execution_count": 10,
   "metadata": {},
   "outputs": [],
   "source": [
    "def normal_probability_between(lo, hi, mu=0, sigma=1):\n",
    "    return normal_cdf(hi, mu, sigma) - normal_cdf(lo, mu, sigma)"
   ]
  },
  {
   "cell_type": "markdown",
   "metadata": {},
   "source": [
    "주어진 두 값의 바깥에 위치할 확률"
   ]
  },
  {
   "cell_type": "code",
   "execution_count": 11,
   "metadata": {},
   "outputs": [],
   "source": [
    "def normal_probability_outside(lo, hi, mu=0, sigma=1):\n",
    "    return 1- normal_probability_between(lo, hi, mu, sigma)"
   ]
  },
  {
   "cell_type": "markdown",
   "metadata": {},
   "source": [
    "$𝑃(𝑍≤𝑧)=probability$ 가 되게 하는 $z$ 반환\n",
    "\n",
    "* 왼쪽 부분의 면적이 probability가 되게 하는 $z$ 반환"
   ]
  },
  {
   "cell_type": "code",
   "execution_count": 12,
   "metadata": {},
   "outputs": [],
   "source": [
    "def normal_upper_bound(probability, mu=0, sigma=1):\n",
    "    return inverse_normal_cdf(probability, mu, sigma)"
   ]
  },
  {
   "cell_type": "markdown",
   "metadata": {},
   "source": [
    "$ 𝑃(𝑍≥𝑧)=probability$ 가 되게 하는 $z$ 반환\n",
    "\n",
    "* 오른쪽 부분의 면적이 probability가 되게 하는 $z$ 반환"
   ]
  },
  {
   "cell_type": "code",
   "execution_count": 13,
   "metadata": {},
   "outputs": [],
   "source": [
    "def normal_lower_bound(probability, mu=0, sigma=1):\n",
    "    return inverse_normal_cdf(1-probability, mu, sigma)"
   ]
  },
  {
   "cell_type": "markdown",
   "metadata": {},
   "source": [
    "$𝑃(a ≤𝑍≤ b )=probability$ 가 되게 하는 $a, b$ 반환\n",
    "\n",
    "* 가운데 부분의 면적이 probability가 되게 하는 $a, b$ 반환"
   ]
  },
  {
   "cell_type": "code",
   "execution_count": 14,
   "metadata": {},
   "outputs": [],
   "source": [
    "def normal_two_sided_bounds(probability, mu=0, sigma=1):\n",
    "    tail_probability = (1 - probability) / 2\n",
    "    b = normal_lower_bound(tail_probability, mu, sigma)\n",
    "    a = normal_upper_bound(tail_probability, mu, sigma)\n",
    "    return a, b"
   ]
  },
  {
   "cell_type": "markdown",
   "metadata": {},
   "source": [
    "### 가설 검정\n",
    "\n",
    "#### 양측 검정\n",
    "\n",
    "동전을 1000회 던졌다고 가정, $𝑋$ : 총 앞면의 개수\n",
    "\n",
    "$H_0$ : 동전은 공평하다.\n",
    "$H_1$ : 동전은 공평하지 않다.\n",
    "\n",
    "$H_0$ 가정에서 $𝑋$는 평균 500, 표준편차 15.8의 정규 분포에 근사"
   ]
  },
  {
   "cell_type": "code",
   "execution_count": 15,
   "metadata": {},
   "outputs": [],
   "source": [
    "mu_0, sigma_0 = normal_approximation_to_binomial(1000, 0.5)"
   ]
  },
  {
   "cell_type": "markdown",
   "metadata": {},
   "source": [
    "$𝛼=0.05$ : 유의 수준, Type 1 오류가 발생할 확률\n",
    "\n",
    "만약 $𝑋$가 다음의 범위를 넘어서면 $H_0$ 기각"
   ]
  },
  {
   "cell_type": "code",
   "execution_count": 16,
   "metadata": {},
   "outputs": [
    {
     "data": {
      "text/plain": [
       "(469.0101910103009, 530.9898089896991)"
      ]
     },
     "execution_count": 16,
     "metadata": {},
     "output_type": "execute_result"
    }
   ],
   "source": [
    "normal_two_sided_bounds(0.95, mu_0, sigma_0)   # (469,  531)"
   ]
  },
  {
   "cell_type": "markdown",
   "metadata": {},
   "source": [
    "#### 단측 검정\n",
    "\n",
    "$H_0$ : 동전은 공평하다.\n",
    "\n",
    "$H_1$ : 앞면이 많이 나오도록 설계되어 있다.\n",
    "\n",
    "기각역의 범위를 구함에 있어 한 쪽의 꼬리만 생각하면 됨"
   ]
  },
  {
   "cell_type": "code",
   "execution_count": 17,
   "metadata": {},
   "outputs": [
    {
     "data": {
      "text/plain": [
       "526.00743391878"
      ]
     },
     "execution_count": 17,
     "metadata": {},
     "output_type": "execute_result"
    }
   ],
   "source": [
    "hi = normal_upper_bound(0.95, mu_0, sigma_0)  # 526<531\n",
    "\n",
    "hi"
   ]
  },
  {
   "cell_type": "markdown",
   "metadata": {},
   "source": [
    "#### p-value를 이용한 양측 검정\n",
    "\n",
    "기각역을 찾는 대신 p-value를 이용하여 가설 검정"
   ]
  },
  {
   "cell_type": "code",
   "execution_count": 18,
   "metadata": {},
   "outputs": [],
   "source": [
    "def two_sided_p_value(x, mu=0, sigma=1):\n",
    "    if x>= mu:\n",
    "        return 2*normal_probability_above(x, mu, sigma)\n",
    "    else:\n",
    "        return 2*normal_probability_below(x, mu, sigma)"
   ]
  },
  {
   "cell_type": "markdown",
   "metadata": {},
   "source": [
    "만약 530개의 앞면을 관찰했다면\n",
    " * continuity correction 때문에 530 대신 529.5 이용"
   ]
  },
  {
   "cell_type": "code",
   "execution_count": 19,
   "metadata": {},
   "outputs": [
    {
     "data": {
      "text/plain": [
       "0.06207721579598835"
      ]
     },
     "execution_count": 19,
     "metadata": {},
     "output_type": "execute_result"
    }
   ],
   "source": [
    "two_sided_p_value(529.5, mu_0, sigma_0)  # 0.062\n"
   ]
  },
  {
   "cell_type": "markdown",
   "metadata": {},
   "source": [
    "p-value$ = 0.062 > 0.05(=𝛼)$ 이기 때문에 $H_0$를 기각하지 않음"
   ]
  },
  {
   "cell_type": "markdown",
   "metadata": {},
   "source": [
    "#### 단측 검정에서 p-value\n",
    "\n",
    "기존의 normal_probability_above/below를 이용하여 p-value를 계산할 수 있다."
   ]
  },
  {
   "cell_type": "code",
   "execution_count": 20,
   "metadata": {},
   "outputs": [],
   "source": [
    "upper_p_value = normal_probability_above\n",
    "lower_p_value = normal_probability_below"
   ]
  },
  {
   "cell_type": "code",
   "execution_count": 21,
   "metadata": {},
   "outputs": [
    {
     "data": {
      "text/plain": [
       "0.06062885772582072"
      ]
     },
     "execution_count": 21,
     "metadata": {},
     "output_type": "execute_result"
    }
   ],
   "source": [
    "# 525개의 앞면이 나온 경우 단측 검정\n",
    "upper_p_value(524.5, mu_0, sigma_0)   #0.061"
   ]
  },
  {
   "cell_type": "markdown",
   "metadata": {},
   "source": [
    " => 𝛼=0.05기준으로 귀무가설 기각 안 함"
   ]
  },
  {
   "cell_type": "code",
   "execution_count": 22,
   "metadata": {},
   "outputs": [
    {
     "data": {
      "text/plain": [
       "0.04686839508859242"
      ]
     },
     "execution_count": 22,
     "metadata": {},
     "output_type": "execute_result"
    }
   ],
   "source": [
    "# 527개의 앞면이 나온 경우 단측 검정\n",
    "upper_p_value(526.5, mu_0, sigma_0)    #0.047"
   ]
  },
  {
   "cell_type": "markdown",
   "metadata": {},
   "source": [
    " => 𝛼=0.05기준으로 귀무가설 기각"
   ]
  },
  {
   "cell_type": "markdown",
   "metadata": {},
   "source": [
    "### 시뮬레이션을 통한 확인\n",
    "\n",
    "100000의 시뮬레이션 실험을 통해, 총 앞면의 횟수가 $(470, 530)$을 넘어가는 extreme 사건의 개수를 합산\n",
    "* 여기서 각각의 시뮬레이션 실험은 동전을 1000회 던지는 실험\n",
    "* $(470,  530)$가 $\\alpha=0.05$ 수준에서 양측 검정의 채택역이므로, 대략 5%의 데이터가 집계될 것으로 예상할 수 있음\n",
    "* 옳은 귀무가설을 기각하는 제1종 오류가 발생하는 비율"
   ]
  },
  {
   "cell_type": "code",
   "execution_count": 23,
   "metadata": {},
   "outputs": [
    {
     "name": "stdout",
     "output_type": "stream",
     "text": [
      "0.0537\n"
     ]
    }
   ],
   "source": [
    "import random\n",
    "extreme_value_count = 0\n",
    "for _ in range(10000):\n",
    "    num_heads = sum(1 if random.random() < 0.5 else 0\n",
    "                    for _ in range(1000))\n",
    "    if num_heads > 530 or num_heads < 470:\n",
    "        extreme_value_count += 1\n",
    "print(extreme_value_count/10000)"
   ]
  },
  {
   "cell_type": "code",
   "execution_count": 24,
   "metadata": {},
   "outputs": [
    {
     "name": "stdout",
     "output_type": "stream",
     "text": [
      "539\n"
     ]
    }
   ],
   "source": [
    "### P-hacking\n",
    "\n",
    "# 실험을 무수히 많이 실행하다 보면, 원하는 (작은) p-value를 얻을 수 있다.\n",
    "# 아래 실험에서는 10000번의 실험중 대략 500번은 작은 p-value를 얻는다는 것을 보여준다.\n",
    "# 이러한 과정을 P-hacking이라고 하면 통계적으로 유의미하지 않은 현상을 유의미하다고 잘못 탈바꿈할 수 있다.\n",
    "\n",
    "def run_experiment():\n",
    "    return [random.random() < 0.5 for _ in range(1000)]\n",
    "\n",
    "def reject_fariness(experiment):\n",
    "    num_heads = sum(experiment)\n",
    "    return num_heads < 470 or num_heads > 530\n",
    "\n",
    "experiments = [run_experiment() for _ in range(10000)]\n",
    "num_rejections = len([experiment for experiment in experiments if reject_fariness(experiment)])\n",
    "print(num_rejections)\n"
   ]
  },
  {
   "cell_type": "markdown",
   "metadata": {},
   "source": [
    "## `scipy.stats`을 이용한 검정\n",
    "\n",
    "-----\n",
    "\n",
    "`scipy.stats`는 데이터 분석 및 통계 모델링에 사용할 확률 분포 및 통계 함수에 대한 구현을 제공하는 SciPy내의 하위 모듈이다.\n"
   ]
  },
  {
   "cell_type": "markdown",
   "metadata": {},
   "source": [
    "### [`ttest_1samp`](https://docs.scipy.org/doc/scipy/reference/generated/scipy.stats.ttest_1samp.html)\n",
    "\n",
    "```ttest_1samp``` 함수 : 한 그룹의 평균에 대한 t-검정을 수행.\n",
    "\n",
    "* 독립 관측치 ```a``` 표본의 기대값이 주어진 값인 $\\mu_0 = $```popmean```과 같다는 귀무 가설에 대한 검정\n",
    "\n",
    "* ```alternative``` 인자를 통해, ```{'two-sided', 'less', 'greater'}``` 하나를 선택할 수 있다. 기본값은 `two-sided`\n",
    "\n",
    "  * ```'two-sided'```:  $ H_1 : \\mu \\neq \\mu_0 $\n",
    "\n",
    "  * ```'less'```: $ H_1 : \\mu < \\mu_0 $\n",
    "\n",
    " * ```'greater'```: $ H_1 : \\mu > \\mu_0 $\n",
    "\n",
    "* t-통계량과 p-value를 반환한다."
   ]
  },
  {
   "cell_type": "code",
   "execution_count": 25,
   "metadata": {},
   "outputs": [],
   "source": [
    "import scipy.stats as stats\n",
    "import numpy as np"
   ]
  },
  {
   "cell_type": "markdown",
   "metadata": {},
   "source": [
    "주어진 `data`에 대해 평균 $\\mu = 15$인지를 검정\n",
    "\n",
    "$$ H_0 : \\mu = 15$$\n",
    "$$ H_1 : \\mu \\neq 15$$\n"
   ]
  },
  {
   "cell_type": "code",
   "execution_count": 26,
   "metadata": {},
   "outputs": [
    {
     "data": {
      "text/plain": [
       "14.23076923076923"
      ]
     },
     "execution_count": 26,
     "metadata": {},
     "output_type": "execute_result"
    }
   ],
   "source": [
    "data1 = [12, 12, 13, 13, 14, 14, 14, 14, 15, 15, 16, 16, 17]\n",
    "np.mean(data1)"
   ]
  },
  {
   "cell_type": "code",
   "execution_count": 27,
   "metadata": {},
   "outputs": [
    {
     "data": {
      "text/plain": [
       "Ttest_1sampResult(statistic=-1.8057877962865403, pvalue=0.09608040334011646)"
      ]
     },
     "execution_count": 27,
     "metadata": {},
     "output_type": "execute_result"
    }
   ],
   "source": [
    "#perform one sample t-test\n",
    "result = stats.ttest_1samp(a = data1, popmean=15)\n",
    "result"
   ]
  },
  {
   "cell_type": "markdown",
   "metadata": {},
   "source": [
    "위의 예제에서 $t$-검정통계량의 값과 $p$-값을 확인할 수 있다.\n",
    "\n",
    "다음과 같이 해당 attribute에 접근하여 값을 받아올 수도 있다."
   ]
  },
  {
   "cell_type": "code",
   "execution_count": 28,
   "metadata": {},
   "outputs": [
    {
     "data": {
      "text/plain": [
       "-1.8057877962865403"
      ]
     },
     "execution_count": 28,
     "metadata": {},
     "output_type": "execute_result"
    }
   ],
   "source": [
    "result.statistic"
   ]
  },
  {
   "cell_type": "code",
   "execution_count": 29,
   "metadata": {},
   "outputs": [
    {
     "data": {
      "text/plain": [
       "0.09608040334011646"
      ]
     },
     "execution_count": 29,
     "metadata": {},
     "output_type": "execute_result"
    }
   ],
   "source": [
    "result.pvalue"
   ]
  },
  {
   "cell_type": "markdown",
   "metadata": {},
   "source": [
    "물론 $t$-통계량의 공식을 이용하여 직접 구할 수 있다.\n",
    "\n",
    "$$ T = \\frac{\\bar X - \\mu_0}{ \\frac{S}{\\sqrt{n}}} $$"
   ]
  },
  {
   "cell_type": "code",
   "execution_count": 30,
   "metadata": {},
   "outputs": [
    {
     "data": {
      "text/plain": [
       "-1.80578779628654"
      ]
     },
     "execution_count": 30,
     "metadata": {},
     "output_type": "execute_result"
    }
   ],
   "source": [
    "T0 = (np.mean(data1) - 15) / np.std(data1, ddof=1) * np.sqrt(len(data1))\n",
    "T0"
   ]
  },
  {
   "cell_type": "markdown",
   "metadata": {},
   "source": [
    "`scipy.stats.t.cdf` 함수를 이용하여 $p$-value를 계산할 수 있다. \n",
    "양방향 검정이므로 곱하기 2를 취한다."
   ]
  },
  {
   "cell_type": "code",
   "execution_count": 31,
   "metadata": {},
   "outputs": [
    {
     "data": {
      "text/plain": [
       "0.09608040334011649"
      ]
     },
     "execution_count": 31,
     "metadata": {},
     "output_type": "execute_result"
    }
   ],
   "source": [
    "stats.t.cdf(T0, df = len(data1)-1) * 2"
   ]
  },
  {
   "cell_type": "markdown",
   "metadata": {},
   "source": [
    "이번에는 단측 대립가설을 이용해 본다.\n",
    "\n",
    "$$ H_0 : \\mu = 15$$\n",
    "$$ H_1 : \\mu < 15$$"
   ]
  },
  {
   "cell_type": "code",
   "execution_count": 32,
   "metadata": {},
   "outputs": [
    {
     "data": {
      "text/plain": [
       "Ttest_1sampResult(statistic=-1.8057877962865403, pvalue=0.04804020167005823)"
      ]
     },
     "execution_count": 32,
     "metadata": {},
     "output_type": "execute_result"
    }
   ],
   "source": [
    "stats.ttest_1samp(a = data1, popmean=15, alternative = 'less')  # less than 0.05"
   ]
  },
  {
   "cell_type": "code",
   "execution_count": 33,
   "metadata": {},
   "outputs": [
    {
     "data": {
      "text/plain": [
       "0.04804020167005824"
      ]
     },
     "execution_count": 33,
     "metadata": {},
     "output_type": "execute_result"
    }
   ],
   "source": [
    "# p-value\n",
    "stats.t.cdf(T0, df = len(data1)-1)"
   ]
  },
  {
   "cell_type": "markdown",
   "metadata": {},
   "source": [
    "다른 방향의 단측 대립가설:\n",
    "\n",
    "$$ H_0 : \\mu = 15$$\n",
    "$$ H_1 : \\mu > 15$$"
   ]
  },
  {
   "cell_type": "code",
   "execution_count": 34,
   "metadata": {},
   "outputs": [
    {
     "data": {
      "text/plain": [
       "Ttest_1sampResult(statistic=-1.8057877962865403, pvalue=0.9519597983299417)"
      ]
     },
     "execution_count": 34,
     "metadata": {},
     "output_type": "execute_result"
    }
   ],
   "source": [
    "stats.ttest_1samp(a = data1, popmean=15, alternative = 'greater')"
   ]
  },
  {
   "cell_type": "code",
   "execution_count": 35,
   "metadata": {},
   "outputs": [
    {
     "data": {
      "text/plain": [
       "0.9519597983299417"
      ]
     },
     "execution_count": 35,
     "metadata": {},
     "output_type": "execute_result"
    }
   ],
   "source": [
    "# p-value\n",
    "1 - stats.t.cdf(T0, df = len(data1)-1)"
   ]
  },
  {
   "cell_type": "markdown",
   "metadata": {},
   "source": [
    "### [`scipy.stats.ttest_ind`](https://docs.scipy.org/doc/scipy/reference/generated/scipy.stats.ttest_ind.html)\n",
    "\n",
    "```scipy.stats.ttest_ind``` : 독립인 두 그룹 평균 비교\n",
    "\n",
    "마찬가지로 `alternative` 인자를 통해, `{'two-sided', 'less', 'greater'}` 하나를 선택할 수 있다. 기본값은 `two-sided`\n",
    "\n",
    "* `two-sided` :  $H_1 : \\mu_1 \\neq \\mu_2 $\n",
    " \n",
    "* `less` :  $H_1 : \\mu_1 < \\mu_2 $\n",
    " \n",
    "* `greater`:  $H_1 : \\mu_1 > \\mu_2 $"
   ]
  },
  {
   "cell_type": "code",
   "execution_count": 36,
   "metadata": {},
   "outputs": [
    {
     "data": {
      "text/plain": [
       "13.076923076923077"
      ]
     },
     "execution_count": 36,
     "metadata": {},
     "output_type": "execute_result"
    }
   ],
   "source": [
    "data2 = [13, 12, 11, 12, 14, 11, 15, 14, 11, 12, 18, 10, 17]\n",
    "np.mean(data2)"
   ]
  },
  {
   "cell_type": "markdown",
   "metadata": {},
   "source": [
    "양측 검정:\n",
    "$$ H_0 : \\mu_1 = \\mu_2 $$\n",
    "$$ H_1 : \\mu_1 \\neq \\mu_2 $$"
   ]
  },
  {
   "cell_type": "code",
   "execution_count": 37,
   "metadata": {},
   "outputs": [
    {
     "data": {
      "text/plain": [
       "Ttest_indResult(statistic=1.4467284665112357, pvalue=0.1609084742872385)"
      ]
     },
     "execution_count": 37,
     "metadata": {},
     "output_type": "execute_result"
    }
   ],
   "source": [
    "stats.ttest_ind(a = data1, b = data2)"
   ]
  },
  {
   "cell_type": "markdown",
   "metadata": {},
   "source": [
    "단측 검정의 경우 :\n",
    "\n",
    "$$ H_0 : \\mu_1 = \\mu_2 $$\n",
    "$$ H_1 : \\mu_1 > \\mu_2 $$"
   ]
  },
  {
   "cell_type": "code",
   "execution_count": 38,
   "metadata": {},
   "outputs": [
    {
     "data": {
      "text/plain": [
       "Ttest_indResult(statistic=1.4467284665112357, pvalue=0.08045423714361925)"
      ]
     },
     "execution_count": 38,
     "metadata": {},
     "output_type": "execute_result"
    }
   ],
   "source": [
    "stats.ttest_ind(a = data1, b = data2, alternative = 'greater')  "
   ]
  },
  {
   "cell_type": "markdown",
   "metadata": {},
   "source": [
    "### [`scipy.stats.ttest_rel`](https://docs.scipy.org/doc/scipy/reference/generated/scipy.stats.ttest_rel.html)\n",
    "\n",
    "`scipy.stats.ttest_rel` : 대응 2표본 검정 (쌍체 검정)\n",
    "\n",
    "`data1`과 `data2`가 대응 표본이라고 가정하고, 다음의 검정을 진행해 보자.\n",
    "\n",
    "$$ H_0 : \\mu_1 = \\mu_2 $$\n",
    "$$ H_1 : \\mu_1 \\neq \\mu_2 $$"
   ]
  },
  {
   "cell_type": "code",
   "execution_count": 40,
   "metadata": {},
   "outputs": [
    {
     "data": {
      "text/plain": [
       "Ttest_relResult(statistic=1.8057877962865378, pvalue=0.04804020167005843)"
      ]
     },
     "execution_count": 40,
     "metadata": {},
     "output_type": "execute_result"
    }
   ],
   "source": [
    "stats.ttest_rel(a = data1, b = data2, alternative = 'greater')"
   ]
  }
 ],
 "metadata": {
  "kernelspec": {
   "display_name": "Python 3 (ipykernel)",
   "language": "python",
   "name": "python3"
  },
  "language_info": {
   "codemirror_mode": {
    "name": "ipython",
    "version": 3
   },
   "file_extension": ".py",
   "mimetype": "text/x-python",
   "name": "python",
   "nbconvert_exporter": "python",
   "pygments_lexer": "ipython3",
   "version": "3.9.13"
  }
 },
 "nbformat": 4,
 "nbformat_minor": 4
}
